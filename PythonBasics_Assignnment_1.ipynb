{
  "nbformat": 4,
  "nbformat_minor": 0,
  "metadata": {
    "colab": {
      "provenance": [],
      "collapsed_sections": []
    },
    "kernelspec": {
      "name": "python3",
      "display_name": "Python 3"
    },
    "language_info": {
      "name": "python"
    }
  },
  "cells": [
    {
      "cell_type": "code",
      "execution_count": null,
      "metadata": {
        "id": "TR6K8QpgZKdx"
      },
      "outputs": [],
      "source": []
    },
    {
      "cell_type": "markdown",
      "source": [
        "##1. In the below elements which of them are values or an expression? eg:- values can be integer or string and expressions will be mathematical operators.\n",
        " \n",
        " *, 'hello' , -87.8, - , / , + ,\t6 \n",
        "\n",
        " Answer: Values are   'hello' , -87.8 ,6 \n",
        "\n",
        "Expressions are   -, / ,+ ,* \n",
        "\n",
        "\n",
        "\n",
        " \n",
        "\n",
        "\n",
        "\n",
        "\n",
        "\n",
        "\n",
        "\n",
        "\n",
        "  \n"
      ],
      "metadata": {
        "id": "ZnVjVVZ6ZLSQ"
      }
    },
    {
      "cell_type": "markdown",
      "source": [
        "## 2. What is the difference between string and variable?\n",
        "\n",
        "Answer: String are collection of peice of text\n",
        "\n",
        "String is written between (“ “) or (''). EXAMPLE : \"varsha \"  or 'mahato'\n",
        "\n",
        "Variabls is a name in which our values are store in memory location . \n",
        "\n",
        "values that variable contains  can be anything like ; int string ,float.\n",
        "\n",
        "example: a=23, b=88.999 , c=\"varsha"
      ],
      "metadata": {
        "id": "_HeehbPCbuKG"
      }
    },
    {
      "cell_type": "markdown",
      "source": [
        "# 3. Describe three different data types.\n",
        "Ans: The three different data types in python are:\n",
        "1. int - it contains whole number , -ve and +ve number\n",
        "example: v=10 , c=-9\n",
        "2.str - it contains characters which is represented whithin \" \" or ' '\n",
        "example : v=\"varsha\".\n",
        "3.float point number -  it conatins -ve or +ve whole number with decimal point.\n",
        "example : v=77.8888 \n"
      ],
      "metadata": {
        "id": "iMNQKkpo9-ch"
      }
    },
    {
      "cell_type": "code",
      "source": [
        "#example of int\n",
        "a=10\n",
        "print(f\"the value of a : {a}\")\n",
        "print(f\" data type is : {type(a)}\")"
      ],
      "metadata": {
        "colab": {
          "base_uri": "https://localhost:8080/"
        },
        "id": "W2cb9VJ__X-f",
        "outputId": "5288946a-e6d2-42a4-8df1-04fe3758c78d"
      },
      "execution_count": null,
      "outputs": [
        {
          "output_type": "stream",
          "name": "stdout",
          "text": [
            "the value of a : 10\n",
            " data type is : <class 'int'>\n"
          ]
        }
      ]
    },
    {
      "cell_type": "code",
      "source": [
        "#example of float\n",
        "f=10.11\n",
        "print(f\"the value of a : {f}\")\n",
        "print(f\" data type is : {type(f)}\")"
      ],
      "metadata": {
        "colab": {
          "base_uri": "https://localhost:8080/"
        },
        "id": "ncO4hiryAQai",
        "outputId": "778e2492-6f60-4155-a647-25a65f79d106"
      },
      "execution_count": null,
      "outputs": [
        {
          "output_type": "stream",
          "name": "stdout",
          "text": [
            "the value of a : 10.11\n",
            " data type is : <class 'float'>\n"
          ]
        }
      ]
    },
    {
      "cell_type": "code",
      "source": [
        "s=\"varsha\"\n",
        "print(f\"the value of a : {s}\")\n",
        "print(f\" data type is : {type(s)}\")"
      ],
      "metadata": {
        "colab": {
          "base_uri": "https://localhost:8080/"
        },
        "id": "BLk9g6LQAftM",
        "outputId": "179f3fbc-b9d4-4d4f-bdb6-67408a3ff5eb"
      },
      "execution_count": null,
      "outputs": [
        {
          "output_type": "stream",
          "name": "stdout",
          "text": [
            "the value of a : varsha\n",
            " data type is : <class 'str'>\n"
          ]
        }
      ]
    },
    {
      "cell_type": "markdown",
      "source": [
        "# 4. What is an expression made up of? What do all expressions do?\n",
        "Ans: An expression is made up of variable, constant and operator and it \n",
        "should have at least one operand.\n",
        "\n",
        "An expression always perform operation based on operators and gives a single value as a result.\n",
        "\n"
      ],
      "metadata": {
        "id": "QFdwABwfAq05"
      }
    },
    {
      "cell_type": "code",
      "source": [
        "#example\n",
        "a = 12\n",
        "v = 13\n",
        "\n",
        "c=a+v\n",
        "print(f\"the addition result is : {c}\")"
      ],
      "metadata": {
        "colab": {
          "base_uri": "https://localhost:8080/"
        },
        "id": "R9zs3F8eAokz",
        "outputId": "d205eee5-25e6-44dc-c737-23e83f95f588"
      },
      "execution_count": null,
      "outputs": [
        {
          "output_type": "stream",
          "name": "stdout",
          "text": [
            "the addition result is : 25\n"
          ]
        }
      ]
    },
    {
      "cell_type": "markdown",
      "source": [
        "# 5. This assignment statements, like spam = 10. What is the difference between an expression and a statement?\n",
        "Ans:\n",
        "\n",
        "in spam = 10 , value 10 in assigned to spam, and now spam will hold the value that is  10.\n",
        "\n",
        "In expression v=a/b, the value of variable  v depends on the value of a and b."
      ],
      "metadata": {
        "id": "B9M6WiUNCa6B"
      }
    },
    {
      "cell_type": "markdown",
      "source": [
        "# 6. After running the following code, what does the variable bacon contain?\n",
        "bacon = 22\n",
        "\n",
        "bacon + 1\n",
        "Ans:\n",
        "the value of bacon will be 22 because it is been reassigned to bacon+1 and here \n",
        "\n",
        "some variable is holding bacon+1 value .ie;23 \n"
      ],
      "metadata": {
        "id": "x2n_7AXADu3f"
      }
    },
    {
      "cell_type": "code",
      "source": [
        "bacon = 22\n",
        "a=bacon + 1\n",
        "print(f\"the value of bacon : {bacon}\")\n",
        "print(f\"the value of bacon+1 : {a}\")"
      ],
      "metadata": {
        "colab": {
          "base_uri": "https://localhost:8080/"
        },
        "id": "5QjP0gKBCXt4",
        "outputId": "add4b17d-6dda-414e-8595-94547f7c5860"
      },
      "execution_count": null,
      "outputs": [
        {
          "output_type": "stream",
          "name": "stdout",
          "text": [
            "the value of bacon : 22\n",
            "the value of bacon+1 : 23\n"
          ]
        }
      ]
    },
    {
      "cell_type": "markdown",
      "source": [
        "# 7. What should the values of the following two terms be?\n",
        "'spam' + 'spamspam'\n",
        "\n",
        "'spam' * 3\n",
        "\n",
        "Ans: values will be same - spamspamspam\n"
      ],
      "metadata": {
        "id": "cOb8_RqyEikS"
      }
    },
    {
      "cell_type": "code",
      "source": [
        "'spam' + 'spamspam'"
      ],
      "metadata": {
        "colab": {
          "base_uri": "https://localhost:8080/",
          "height": 36
        },
        "id": "1r7NBP9mEfHO",
        "outputId": "addcfc14-f568-4857-d814-6722418561ad"
      },
      "execution_count": null,
      "outputs": [
        {
          "output_type": "execute_result",
          "data": {
            "text/plain": [
              "'spamspamspam'"
            ],
            "application/vnd.google.colaboratory.intrinsic+json": {
              "type": "string"
            }
          },
          "metadata": {},
          "execution_count": 20
        }
      ]
    },
    {
      "cell_type": "code",
      "source": [
        "'spam' * 3"
      ],
      "metadata": {
        "colab": {
          "base_uri": "https://localhost:8080/",
          "height": 36
        },
        "id": "u2GA61ScEzg1",
        "outputId": "6e8bbf44-0eb6-411b-99b1-acf30f8e2516"
      },
      "execution_count": null,
      "outputs": [
        {
          "output_type": "execute_result",
          "data": {
            "text/plain": [
              "'spamspamspam'"
            ],
            "application/vnd.google.colaboratory.intrinsic+json": {
              "type": "string"
            }
          },
          "metadata": {},
          "execution_count": 21
        }
      ]
    },
    {
      "cell_type": "markdown",
      "source": [
        "# 8. Why is eggs a valid variable name while 100 is invalid?\n",
        "Ans: variable name cannot start with number."
      ],
      "metadata": {
        "id": "FdsfoNLZE9ZV"
      }
    },
    {
      "cell_type": "code",
      "source": [
        "eggs=100\n",
        "print(eggs)"
      ],
      "metadata": {
        "colab": {
          "base_uri": "https://localhost:8080/"
        },
        "id": "Pe82iKl9E2F6",
        "outputId": "c58c6991-ad40-4c70-8d26-afd863e2bd6c"
      },
      "execution_count": null,
      "outputs": [
        {
          "output_type": "stream",
          "name": "stdout",
          "text": [
            "100\n"
          ]
        }
      ]
    },
    {
      "cell_type": "code",
      "source": [
        "100=eggs\n",
        "print(100)"
      ],
      "metadata": {
        "colab": {
          "base_uri": "https://localhost:8080/",
          "height": 130
        },
        "id": "5H_f9CYwFV2m",
        "outputId": "2c17e2b4-f138-49e5-cac9-c924446e55dd"
      },
      "execution_count": null,
      "outputs": [
        {
          "output_type": "error",
          "ename": "SyntaxError",
          "evalue": "ignored",
          "traceback": [
            "\u001b[0;36m  File \u001b[0;32m\"<ipython-input-23-b536327d1086>\"\u001b[0;36m, line \u001b[0;32m1\u001b[0m\n\u001b[0;31m    100=eggs\u001b[0m\n\u001b[0m            ^\u001b[0m\n\u001b[0;31mSyntaxError\u001b[0m\u001b[0;31m:\u001b[0m can't assign to literal\n"
          ]
        }
      ]
    },
    {
      "cell_type": "markdown",
      "source": [
        "# 9. What three functions can be used to get the integer, floating-point number, or string version of a value?\n",
        "Ans:The three functions are:\n",
        "\n",
        "- int()\n",
        "- float()\n",
        "- str()\n",
        "\n",
        "We can use these three function to convert any value to str,int,float."
      ],
      "metadata": {
        "id": "SXwAJ3d7Fas2"
      }
    },
    {
      "cell_type": "code",
      "source": [
        "# convert to string\n",
        "\n",
        "a=33\n",
        "print(a)"
      ],
      "metadata": {
        "colab": {
          "base_uri": "https://localhost:8080/"
        },
        "id": "4boWdluJFYvq",
        "outputId": "63cefeeb-b61c-432b-e209-b8c288ceee01"
      },
      "execution_count": null,
      "outputs": [
        {
          "output_type": "stream",
          "name": "stdout",
          "text": [
            "33\n"
          ]
        }
      ]
    },
    {
      "cell_type": "code",
      "source": [
        "str(a)"
      ],
      "metadata": {
        "colab": {
          "base_uri": "https://localhost:8080/",
          "height": 36
        },
        "id": "n4KHdsh7GU7n",
        "outputId": "12156c13-7297-4076-efdd-e750ba62f3d8"
      },
      "execution_count": null,
      "outputs": [
        {
          "output_type": "execute_result",
          "data": {
            "text/plain": [
              "'33'"
            ],
            "application/vnd.google.colaboratory.intrinsic+json": {
              "type": "string"
            }
          },
          "metadata": {},
          "execution_count": 27
        }
      ]
    },
    {
      "cell_type": "code",
      "source": [
        "# convert to float\n",
        "a=10\n",
        "print(a)"
      ],
      "metadata": {
        "colab": {
          "base_uri": "https://localhost:8080/"
        },
        "id": "S4BdWRpSGdGq",
        "outputId": "a4da318f-e66d-46e4-d593-8924e91f464a"
      },
      "execution_count": null,
      "outputs": [
        {
          "output_type": "stream",
          "name": "stdout",
          "text": [
            "10\n"
          ]
        }
      ]
    },
    {
      "cell_type": "code",
      "source": [
        "float(a)"
      ],
      "metadata": {
        "colab": {
          "base_uri": "https://localhost:8080/"
        },
        "id": "n8iP-US1GiOz",
        "outputId": "eef4cee1-9fe7-461a-804d-fd8d7e16ba37"
      },
      "execution_count": null,
      "outputs": [
        {
          "output_type": "execute_result",
          "data": {
            "text/plain": [
              "10.0"
            ]
          },
          "metadata": {},
          "execution_count": 29
        }
      ]
    },
    {
      "cell_type": "code",
      "source": [
        "# convert to int\n",
        "a=66.6666\n",
        "print(a)"
      ],
      "metadata": {
        "colab": {
          "base_uri": "https://localhost:8080/"
        },
        "id": "N6unLE_6GjaF",
        "outputId": "f3c914d7-1c13-4c7d-cdc6-1ed86fcc733f"
      },
      "execution_count": null,
      "outputs": [
        {
          "output_type": "stream",
          "name": "stdout",
          "text": [
            "66.6666\n"
          ]
        }
      ]
    },
    {
      "cell_type": "code",
      "source": [
        "int(a)"
      ],
      "metadata": {
        "colab": {
          "base_uri": "https://localhost:8080/"
        },
        "id": "5n7i6Qd5GnI0",
        "outputId": "4f5488ca-6d35-44f7-b595-98ecb9dd508b"
      },
      "execution_count": null,
      "outputs": [
        {
          "output_type": "execute_result",
          "data": {
            "text/plain": [
              "66"
            ]
          },
          "metadata": {},
          "execution_count": 31
        }
      ]
    },
    {
      "cell_type": "markdown",
      "source": [
        "# 10. Why does this expression cause an error? How can you fix it?\n",
        "'I have eaten ' + 99 + ' burritos.'\n",
        "\n",
        "Ans:\n",
        "Since as we know string to string concatination is possible .\n",
        "\n",
        "but here we have string concatination with int which is not possible .\n",
        "\n",
        " so we have to convert 99 to str(99)\n",
        "\n"
      ],
      "metadata": {
        "id": "gbSFtYk1Gqwf"
      }
    },
    {
      "cell_type": "code",
      "source": [
        "'I have eaten ' + 99 + ' burritos.'"
      ],
      "metadata": {
        "colab": {
          "base_uri": "https://localhost:8080/",
          "height": 165
        },
        "id": "iitNWbhaGprk",
        "outputId": "58d54500-ebea-4dc0-b07c-cfc6d50585af"
      },
      "execution_count": null,
      "outputs": [
        {
          "output_type": "error",
          "ename": "TypeError",
          "evalue": "ignored",
          "traceback": [
            "\u001b[0;31m---------------------------------------------------------------------------\u001b[0m",
            "\u001b[0;31mTypeError\u001b[0m                                 Traceback (most recent call last)",
            "\u001b[0;32m<ipython-input-32-d24137131a5c>\u001b[0m in \u001b[0;36m<module>\u001b[0;34m\u001b[0m\n\u001b[0;32m----> 1\u001b[0;31m \u001b[0;34m'I have eaten '\u001b[0m \u001b[0;34m+\u001b[0m \u001b[0;36m99\u001b[0m \u001b[0;34m+\u001b[0m \u001b[0;34m' burritos.'\u001b[0m\u001b[0;34m\u001b[0m\u001b[0;34m\u001b[0m\u001b[0m\n\u001b[0m",
            "\u001b[0;31mTypeError\u001b[0m: can only concatenate str (not \"int\") to str"
          ]
        }
      ]
    },
    {
      "cell_type": "code",
      "source": [
        "'I have eaten ' + str(99) + ' burritos.'"
      ],
      "metadata": {
        "colab": {
          "base_uri": "https://localhost:8080/",
          "height": 36
        },
        "id": "67j7pAQOGWeb",
        "outputId": "5f77771f-a7cb-48e1-cacf-bb14838513f8"
      },
      "execution_count": null,
      "outputs": [
        {
          "output_type": "execute_result",
          "data": {
            "text/plain": [
              "'I have eaten 99 burritos.'"
            ],
            "application/vnd.google.colaboratory.intrinsic+json": {
              "type": "string"
            }
          },
          "metadata": {},
          "execution_count": 33
        }
      ]
    }
  ]
}