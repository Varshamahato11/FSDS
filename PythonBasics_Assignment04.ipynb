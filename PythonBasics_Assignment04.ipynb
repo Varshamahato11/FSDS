{
  "nbformat": 4,
  "nbformat_minor": 0,
  "metadata": {
    "colab": {
      "provenance": []
    },
    "kernelspec": {
      "name": "python3",
      "display_name": "Python 3"
    },
    "language_info": {
      "name": "python"
    }
  },
  "cells": [
    {
      "cell_type": "markdown",
      "source": [
        "# ASSIGNMENT **04**"
      ],
      "metadata": {
        "id": "ZU4zWyOHBM6M"
      }
    },
    {
      "cell_type": "markdown",
      "source": [
        "# 1. What exactly is [ ]?\n",
        "\n",
        "Ans: This [ ] is a emplty list,example like a =[ ]"
      ],
      "metadata": {
        "id": "3sR19jt7_TRg"
      }
    },
    {
      "cell_type": "code",
      "source": [],
      "metadata": {
        "id": "TxUNo798BKOq"
      },
      "execution_count": null,
      "outputs": []
    },
    {
      "cell_type": "markdown",
      "source": [
        "# 2. In a list of values stored in a variable called spam, how would you assign the value 'hello' as the third value? (Assume [2, 4, 6, 8, 10] are in spam.)\n"
      ],
      "metadata": {
        "id": "UdfaKoe8BYzM"
      }
    },
    {
      "cell_type": "code",
      "source": [
        "#  change the value in index 3 by hello\n",
        "spam = [2, 4, 6, 8, 10]\n",
        "spam[2] = 'hello'\n",
        "spam"
      ],
      "metadata": {
        "colab": {
          "base_uri": "https://localhost:8080/"
        },
        "id": "xrFAsN4qBmFo",
        "outputId": "0a222d38-7a3e-4ed1-c3ca-aeb4eecb74e1"
      },
      "execution_count": 1,
      "outputs": [
        {
          "output_type": "execute_result",
          "data": {
            "text/plain": [
              "[2, 4, 'hello', 8, 10]"
            ]
          },
          "metadata": {},
          "execution_count": 1
        }
      ]
    },
    {
      "cell_type": "markdown",
      "source": [
        "**Let's pretend the spam includes the list ['a', 'b', 'c', 'd'] for the next three queries.**"
      ],
      "metadata": {
        "id": "8HDvSSicBqXI"
      }
    },
    {
      "cell_type": "code",
      "source": [
        "spam=['a', 'b', 'c', 'd']"
      ],
      "metadata": {
        "id": "XqEt3cZbCF21"
      },
      "execution_count": 2,
      "outputs": []
    },
    {
      "cell_type": "code",
      "source": [
        "spam"
      ],
      "metadata": {
        "colab": {
          "base_uri": "https://localhost:8080/"
        },
        "id": "281altUACGgx",
        "outputId": "1149e0f8-9c43-4c3b-f770-c53726600081"
      },
      "execution_count": 3,
      "outputs": [
        {
          "output_type": "execute_result",
          "data": {
            "text/plain": [
              "['a', 'b', 'c', 'd']"
            ]
          },
          "metadata": {},
          "execution_count": 3
        }
      ]
    },
    {
      "cell_type": "markdown",
      "source": [
        "# 3. What is the value of spam[int(int('3' * 2) / 11)]?"
      ],
      "metadata": {
        "id": "W9KdkrPbCJRu"
      }
    },
    {
      "cell_type": "code",
      "source": [
        "spam[int(int('3' * 2) / 11)]"
      ],
      "metadata": {
        "colab": {
          "base_uri": "https://localhost:8080/",
          "height": 36
        },
        "id": "2jEVhUFjCHXi",
        "outputId": "6bfb06c7-5a54-4a75-ff11-31fcf1eafa36"
      },
      "execution_count": 4,
      "outputs": [
        {
          "output_type": "execute_result",
          "data": {
            "text/plain": [
              "'d'"
            ],
            "application/vnd.google.colaboratory.intrinsic+json": {
              "type": "string"
            }
          },
          "metadata": {},
          "execution_count": 4
        }
      ]
    },
    {
      "cell_type": "markdown",
      "source": [
        "#4. What is the value of spam[-1]?"
      ],
      "metadata": {
        "id": "d-JsaOuPCYlz"
      }
    },
    {
      "cell_type": "code",
      "source": [
        "spam[-1]"
      ],
      "metadata": {
        "colab": {
          "base_uri": "https://localhost:8080/",
          "height": 36
        },
        "id": "e1Qs3F-6CRb4",
        "outputId": "f714b3cb-34a8-4dc8-f669-9d3157989d5a"
      },
      "execution_count": 5,
      "outputs": [
        {
          "output_type": "execute_result",
          "data": {
            "text/plain": [
              "'d'"
            ],
            "application/vnd.google.colaboratory.intrinsic+json": {
              "type": "string"
            }
          },
          "metadata": {},
          "execution_count": 5
        }
      ]
    },
    {
      "cell_type": "markdown",
      "source": [
        "# 5. What is the value of spam[:2]?"
      ],
      "metadata": {
        "id": "3g4shtPGCiua"
      }
    },
    {
      "cell_type": "code",
      "source": [
        "spam[:2]"
      ],
      "metadata": {
        "colab": {
          "base_uri": "https://localhost:8080/"
        },
        "id": "ns1ZNgroCeA5",
        "outputId": "6f62bab8-3292-4f52-ca77-ad394c41f1dd"
      },
      "execution_count": 6,
      "outputs": [
        {
          "output_type": "execute_result",
          "data": {
            "text/plain": [
              "['a', 'b']"
            ]
          },
          "metadata": {},
          "execution_count": 6
        }
      ]
    },
    {
      "cell_type": "markdown",
      "source": [
        "**Let's pretend bacon has the list [3.14, 'cat,' 11, 'cat,' True] for the next three questions**"
      ],
      "metadata": {
        "id": "YiP4u-KDCqWL"
      }
    },
    {
      "cell_type": "code",
      "source": [
        "bacon=[3.14, 'cat', 11, 'cat', True]\n",
        "bacon"
      ],
      "metadata": {
        "colab": {
          "base_uri": "https://localhost:8080/"
        },
        "id": "wwqFs159Cm1A",
        "outputId": "df3b20ee-26f5-43f8-c103-047258c4e64d"
      },
      "execution_count": 7,
      "outputs": [
        {
          "output_type": "execute_result",
          "data": {
            "text/plain": [
              "[3.14, 'cat', 11, 'cat', True]"
            ]
          },
          "metadata": {},
          "execution_count": 7
        }
      ]
    },
    {
      "cell_type": "markdown",
      "source": [
        "# 6. What is the value of bacon.index('cat')?"
      ],
      "metadata": {
        "id": "AiR_cRjxC1Nq"
      }
    },
    {
      "cell_type": "code",
      "source": [
        "# it returns the index of first occurrence of 'cat'\n",
        "bacon.index('cat')"
      ],
      "metadata": {
        "colab": {
          "base_uri": "https://localhost:8080/"
        },
        "id": "tRu0rdLfCv2v",
        "outputId": "f3a7d456-6114-47eb-f4f5-2209c39d362b"
      },
      "execution_count": 8,
      "outputs": [
        {
          "output_type": "execute_result",
          "data": {
            "text/plain": [
              "1"
            ]
          },
          "metadata": {},
          "execution_count": 8
        }
      ]
    },
    {
      "cell_type": "markdown",
      "source": [
        "#7. How does bacon.append(99) change the look of the list value in bacon?\n"
      ],
      "metadata": {
        "id": "B50m-_vJC9mB"
      }
    },
    {
      "cell_type": "code",
      "source": [
        "bacon.append(99)"
      ],
      "metadata": {
        "id": "8BYZP5zLC6Nf"
      },
      "execution_count": 9,
      "outputs": []
    },
    {
      "cell_type": "code",
      "source": [
        "# append the item at the end of the list.\n",
        "bacon"
      ],
      "metadata": {
        "colab": {
          "base_uri": "https://localhost:8080/"
        },
        "id": "ASbLfYN_DFs7",
        "outputId": "b61b6976-bd39-41c0-8fe6-6e28b4fa5a43"
      },
      "execution_count": 12,
      "outputs": [
        {
          "output_type": "execute_result",
          "data": {
            "text/plain": [
              "[3.14, 'cat', 11, 'cat', True, 99]"
            ]
          },
          "metadata": {},
          "execution_count": 12
        }
      ]
    },
    {
      "cell_type": "markdown",
      "source": [
        "# 8. How does bacon.remove('cat') change the look of the list in bacon?"
      ],
      "metadata": {
        "id": "uo4wLdw0DS82"
      }
    },
    {
      "cell_type": "code",
      "source": [
        "bacon=[3.14, 'cat', 11, 'cat', True]\n",
        "bacon.remove('cat')  # remove first occurrence of item\n",
        "bacon"
      ],
      "metadata": {
        "colab": {
          "base_uri": "https://localhost:8080/"
        },
        "id": "f-8rhek1DR9Q",
        "outputId": "bc283981-cd51-4cbf-aa14-e5a4ac9cdecf"
      },
      "execution_count": 13,
      "outputs": [
        {
          "output_type": "execute_result",
          "data": {
            "text/plain": [
              "[3.14, 11, 'cat', True]"
            ]
          },
          "metadata": {},
          "execution_count": 13
        }
      ]
    },
    {
      "cell_type": "markdown",
      "source": [
        "# 9. What are the list concatenation and list replication operators?\n",
        "Ans: The operator for list concatenation is +, while the operator for replication is *."
      ],
      "metadata": {
        "id": "xoEsVMKUDgYF"
      }
    },
    {
      "cell_type": "code",
      "source": [
        "# list concatination\n",
        "\n",
        "list1=[1,2]\n",
        "list2=[\"varsha\",3]\n",
        "\n",
        "list1+list2"
      ],
      "metadata": {
        "colab": {
          "base_uri": "https://localhost:8080/"
        },
        "id": "gESJQTVlDeYo",
        "outputId": "90daec3e-27fd-4f1f-bcf3-e7be99a40981"
      },
      "execution_count": 14,
      "outputs": [
        {
          "output_type": "execute_result",
          "data": {
            "text/plain": [
              "[1, 2, 'varsha', 3]"
            ]
          },
          "metadata": {},
          "execution_count": 14
        }
      ]
    },
    {
      "cell_type": "code",
      "source": [
        "# list replication\n",
        "l=[4,2]\n",
        "\n",
        "l*2"
      ],
      "metadata": {
        "colab": {
          "base_uri": "https://localhost:8080/"
        },
        "id": "YQUIRVPpDsb5",
        "outputId": "f7baadd4-5311-45b3-9c7f-baed2a1b38bf"
      },
      "execution_count": 15,
      "outputs": [
        {
          "output_type": "execute_result",
          "data": {
            "text/plain": [
              "[4, 2, 4, 2]"
            ]
          },
          "metadata": {},
          "execution_count": 15
        }
      ]
    },
    {
      "cell_type": "markdown",
      "source": [
        "# 10. What is difference between the list methods append() and insert()?\n",
        "Ans: While append() will add values only to the end of a list, insert() can add them anywhere in the list"
      ],
      "metadata": {
        "id": "H6W5CZK5D0cC"
      }
    },
    {
      "cell_type": "code",
      "source": [
        "# append add at the last\n",
        "\n",
        "l=['varsha',3,4,5,True]\n",
        "l.append(False)\n",
        "l"
      ],
      "metadata": {
        "colab": {
          "base_uri": "https://localhost:8080/"
        },
        "id": "iMof5VAhDwJ7",
        "outputId": "e6309a4b-1841-445a-c1df-b681cde07c92"
      },
      "execution_count": 16,
      "outputs": [
        {
          "output_type": "execute_result",
          "data": {
            "text/plain": [
              "['varsha', 3, 4, 5, True, False]"
            ]
          },
          "metadata": {},
          "execution_count": 16
        }
      ]
    },
    {
      "cell_type": "code",
      "source": [
        "# insert add item with its index value\n",
        "\n",
        "l=['varsha',3,4,5,True]\n",
        "l.insert(2,False)\n",
        "l"
      ],
      "metadata": {
        "colab": {
          "base_uri": "https://localhost:8080/"
        },
        "id": "99dQxZbyD-bt",
        "outputId": "1dd28030-818d-49fb-e9c3-04195ac108d6"
      },
      "execution_count": 17,
      "outputs": [
        {
          "output_type": "execute_result",
          "data": {
            "text/plain": [
              "['varsha', 3, False, 4, 5, True]"
            ]
          },
          "metadata": {},
          "execution_count": 17
        }
      ]
    },
    {
      "cell_type": "code",
      "source": [],
      "metadata": {
        "id": "VLv2rRaGEBfA"
      },
      "execution_count": null,
      "outputs": []
    },
    {
      "cell_type": "markdown",
      "source": [
        "# 11. What are the two methods for removing items from a list?\n",
        "Ans: remove(item) - removes first occurence of a item \n",
        "\n",
        "pop() Remove and returns item at index (default last)."
      ],
      "metadata": {
        "id": "BAo1JniCEDF7"
      }
    },
    {
      "cell_type": "code",
      "source": [
        "l=[2,3,2,5,6,5,6]\n",
        "l.remove(5)\n",
        "l"
      ],
      "metadata": {
        "colab": {
          "base_uri": "https://localhost:8080/"
        },
        "id": "7sRoobNtDJ4B",
        "outputId": "a18d2d44-fb9d-4054-af2d-acaa211091c6"
      },
      "execution_count": 18,
      "outputs": [
        {
          "output_type": "execute_result",
          "data": {
            "text/plain": [
              "[2, 3, 2, 6, 5, 6]"
            ]
          },
          "metadata": {},
          "execution_count": 18
        }
      ]
    },
    {
      "cell_type": "code",
      "source": [
        "l=[2,3,2,5,6,5,6]\n",
        "l.pop()\n",
        "l"
      ],
      "metadata": {
        "colab": {
          "base_uri": "https://localhost:8080/"
        },
        "id": "WySXJ70YEfxy",
        "outputId": "d162b06d-9206-43ec-e906-7313284b5aea"
      },
      "execution_count": 19,
      "outputs": [
        {
          "output_type": "execute_result",
          "data": {
            "text/plain": [
              "[2, 3, 2, 5, 6, 5]"
            ]
          },
          "metadata": {},
          "execution_count": 19
        }
      ]
    },
    {
      "cell_type": "markdown",
      "source": [
        "# 12. Describe how list values and string values are identical.\n",
        "Ans: Both lists and strings can be passed to len()\n",
        "\n",
        "Both have indexes and slices\n",
        "\n",
        "Both can be used in for loops\n",
        "\n",
        "Both can be concatenated or replicated\n",
        "\n",
        "Both can be used with the in and not in operators"
      ],
      "metadata": {
        "id": "yNWc_eIgElub"
      }
    },
    {
      "cell_type": "code",
      "source": [],
      "metadata": {
        "id": "nlayqqDQEj3p"
      },
      "execution_count": null,
      "outputs": []
    },
    {
      "cell_type": "markdown",
      "source": [
        "# 13. What's the difference between tuples and lists?\n",
        "Ans: Lists : \n",
        "1. are mutable - they can have values added, removed, or changed.\n",
        "\n",
        "2. list use the square brackets, [  ]\n",
        "\n",
        "Tuples :\n",
        "\n",
        "1.are immutable; they cannot be changed .\n",
        "\n",
        "2.Tuples are written using parentheses, ( ).  "
      ],
      "metadata": {
        "id": "Z90VI_PQE3yP"
      }
    },
    {
      "cell_type": "code",
      "source": [],
      "metadata": {
        "id": "VyksnJFeDHht"
      },
      "execution_count": null,
      "outputs": []
    },
    {
      "cell_type": "markdown",
      "source": [
        "# 14. How do you type a tuple value that only contains the integer 42?"
      ],
      "metadata": {
        "id": "Wdf0bO7LFPqj"
      }
    },
    {
      "cell_type": "code",
      "source": [
        "t = (42,)\n",
        "print(t)"
      ],
      "metadata": {
        "colab": {
          "base_uri": "https://localhost:8080/"
        },
        "id": "EB7bRO7QByhX",
        "outputId": "82631a72-c9d8-40b3-8ee5-6c57aef67341"
      },
      "execution_count": 20,
      "outputs": [
        {
          "output_type": "stream",
          "name": "stdout",
          "text": [
            "(42,)\n"
          ]
        }
      ]
    },
    {
      "cell_type": "code",
      "source": [],
      "metadata": {
        "id": "JceBoRqVFWC0"
      },
      "execution_count": null,
      "outputs": []
    },
    {
      "cell_type": "markdown",
      "source": [
        "# 15. How do you get a list value's tuple form? How do you get a tuple value's list form?\n",
        "Ans: By using tuple() and list() functions"
      ],
      "metadata": {
        "id": "feethXA0FXeG"
      }
    },
    {
      "cell_type": "code",
      "source": [
        "# getting tuple from list\n",
        "\n",
        "l1=[2,3,4,5]\n",
        "l2=tuple(l1)\n",
        "print(l2)"
      ],
      "metadata": {
        "colab": {
          "base_uri": "https://localhost:8080/"
        },
        "id": "EWkk5cjeFgX4",
        "outputId": "1801c0b0-78af-4ddc-ad7a-3a76e01ba065"
      },
      "execution_count": 21,
      "outputs": [
        {
          "output_type": "stream",
          "name": "stdout",
          "text": [
            "(2, 3, 4, 5)\n"
          ]
        }
      ]
    },
    {
      "cell_type": "code",
      "source": [
        "# getting list from tuple\n",
        "\n",
        "t1=[2,3,4,5]\n",
        "t2=list(t1)\n",
        "print(t2)"
      ],
      "metadata": {
        "colab": {
          "base_uri": "https://localhost:8080/"
        },
        "id": "2jkGQdqdFhTa",
        "outputId": "eb4d652a-42f6-44fe-f68c-d2ef9660c4b2"
      },
      "execution_count": 22,
      "outputs": [
        {
          "output_type": "stream",
          "name": "stdout",
          "text": [
            "[2, 3, 4, 5]\n"
          ]
        }
      ]
    },
    {
      "cell_type": "code",
      "source": [],
      "metadata": {
        "id": "a-qbkZ8TFkcJ"
      },
      "execution_count": null,
      "outputs": []
    },
    {
      "cell_type": "markdown",
      "source": [
        "# 16. Variables that \"contain\" list values are not necessarily lists themselves. Instead, what do they contain?\n",
        "Ans: They contain references to list values."
      ],
      "metadata": {
        "id": "u6zM19KfFmtz"
      }
    },
    {
      "cell_type": "markdown",
      "source": [
        "# 17. How do you distinguish between copy.copy() and copy.deepcopy()?\n",
        "Ans: The copy.copy() function will do a shallow copy of a list, while the copy.\n",
        "    deepcopy() function will do a deep copy of a list. That is, only copy. \n",
        "      deepcopy() will duplicate any lists inside the list."
      ],
      "metadata": {
        "id": "LoNT94aVFvZu"
      }
    },
    {
      "cell_type": "code",
      "source": [],
      "metadata": {
        "id": "Bv5hHwIqFume"
      },
      "execution_count": null,
      "outputs": []
    }
  ]
}