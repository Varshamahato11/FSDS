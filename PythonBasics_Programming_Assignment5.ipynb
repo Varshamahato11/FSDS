{
 "cells": [
  {
   "cell_type": "code",
   "execution_count": 1,
   "id": "e4f96355-e34c-4c68-bf7e-ca5c573b1133",
   "metadata": {},
   "outputs": [
    {
     "name": "stdin",
     "output_type": "stream",
     "text": [
      " Enter the First number :  12\n",
      " Enter the Second number :  14\n"
     ]
    },
    {
     "name": "stdout",
     "output_type": "stream",
     "text": [
      "\n",
      " LCM of 12.0 and 14.0 = 84.0\n"
     ]
    }
   ],
   "source": [
    "#q1. Write a Python Program to Find LCM?\n",
    "\n",
    "n1 = float(input(\" Enter the First number : \"))\n",
    "n2 = float(input(\" Enter the Second number : \"))\n",
    "\n",
    "if(n1 > n2):\n",
    "    max = n1\n",
    "else:\n",
    "    max = n2\n",
    "\n",
    "while(True):\n",
    "    if(max % n1 == 0 and max % n2 == 0):\n",
    "        print(f\"\\n LCM of {n1} and {n2} = {max}\")\n",
    "        break;\n",
    "    max = max + 1"
   ]
  },
  {
   "cell_type": "code",
   "execution_count": 3,
   "id": "306cf358-9e09-4cbb-aed7-a2cca43d574a",
   "metadata": {},
   "outputs": [
    {
     "name": "stdin",
     "output_type": "stream",
     "text": [
      " Enter the First number :  14\n",
      " Enter the Second number :  16\n"
     ]
    },
    {
     "name": "stdout",
     "output_type": "stream",
     "text": [
      "\n",
      " HCF of 14.0 and 2.0 = 2.0\n"
     ]
    }
   ],
   "source": [
    "#q2. Write a Python Program to Find HCF?\n",
    "\n",
    "n1 = float(input(\" Enter the First number : \"))\n",
    "n2 = float(input(\" Enter the Second number : \"))\n",
    "\n",
    "while n1 % n2!= 0:\n",
    "    remainder = n1 % n2\n",
    "    n1 = n2\n",
    "    n2 = remainder\n",
    "print(f\"\\n HCF of {n1} and {n2} = {n2}\")"
   ]
  },
  {
   "cell_type": "code",
   "execution_count": 5,
   "id": "37c27f7f-338b-4d9d-94eb-7ca039fa34a9",
   "metadata": {},
   "outputs": [
    {
     "name": "stdin",
     "output_type": "stream",
     "text": [
      "Enter number :  9\n"
     ]
    },
    {
     "name": "stdout",
     "output_type": "stream",
     "text": [
      "----------\n",
      "The conversion of number 9 is :\n",
      "\n",
      "9  in binary form : 0b1001\n",
      "9  in octal form :  0o11\n",
      "9  in hexadecimal form : 0x9\n"
     ]
    }
   ],
   "source": [
    "#q3.Write a Python Program to Convert Decimal to Binary, Octal and Hexadecimal?\n",
    "\n",
    "decimal_number=int(input(\"Enter number : \"))\n",
    "print(\"----------\")\n",
    "print(f\"The conversion of number {decimal_number} is :\\n\")\n",
    "print(decimal_number, \" in binary form :\", bin(decimal_number))                    #Python Built-in Functions\n",
    "print(decimal_number, \" in octal form : \", oct(decimal_number))                    #Python Built-in Functions\n",
    "print(decimal_number, \" in hexadecimal form :\", hex(decimal_number))                    #Python Built-in Functions"
   ]
  },
  {
   "cell_type": "code",
   "execution_count": 6,
   "id": "c37ac846-fdc2-4263-ad0d-196caf5dbd04",
   "metadata": {},
   "outputs": [
    {
     "name": "stdin",
     "output_type": "stream",
     "text": [
      "Enter any value : A\n"
     ]
    },
    {
     "name": "stdout",
     "output_type": "stream",
     "text": [
      "The ASCII value of A is :  65\n"
     ]
    }
   ],
   "source": [
    "#q4. Write a Python Program To Find ASCII value of a character?\n",
    "\n",
    "character=input(\"Enter any value :\")\n",
    "print(f\"The ASCII value of {character} is : \",ord(character))                     # ord gives ASCII value of a character"
   ]
  },
  {
   "cell_type": "code",
   "execution_count": 8,
   "id": "2c1540e6-240f-4148-bd89-623826f08e42",
   "metadata": {},
   "outputs": [
    {
     "name": "stdout",
     "output_type": "stream",
     "text": [
      "----------SIMPLE CALCULATOR------------\n",
      "\n"
     ]
    },
    {
     "name": "stdin",
     "output_type": "stream",
     "text": [
      " Enter the First number :  12\n",
      " Enter the Second number :  1\n"
     ]
    },
    {
     "name": "stdout",
     "output_type": "stream",
     "text": [
      "\n",
      "\n",
      "\n",
      "If you want Addition '+' press 1 \n",
      "\n",
      "If you want Subtraction '-' press 2 \n",
      " \n",
      "If you want Multiplication '*' press 3 \n",
      " \n",
      "If you want Modulo '%' press 4 \n",
      "\n"
     ]
    },
    {
     "name": "stdin",
     "output_type": "stream",
     "text": [
      "Enter your choice :  4\n"
     ]
    },
    {
     "name": "stdout",
     "output_type": "stream",
     "text": [
      "------------\n",
      " The modulo of 12.0 % 1.0 = 0.0\n"
     ]
    }
   ],
   "source": [
    "#q5. Write a Python Program to Make a Simple Calculator with 4 basic mathematical operations?\n",
    "\n",
    "print(\"----------SIMPLE CALCULATOR------------\\n\")\n",
    "\n",
    "n1 = float(input(\" Enter the First number : \"))\n",
    "n2 = float(input(\" Enter the Second number : \"))\n",
    "print(\"\\n\")\n",
    "print(\"\"\"\n",
    "If you want Addition '+' press 1 \\n\n",
    "If you want Subtraction '-' press 2 \\n \n",
    "If you want Multiplication '*' press 3 \\n \n",
    "If you want Modulo '%' press 4 \\n\"\"\" )\n",
    "\n",
    "user=int(input(\"Enter your choice : \"))\n",
    "\n",
    "if user == 1:\n",
    "    sum = n1 + n2\n",
    "    print(\"------------\")\n",
    "    print(f\" The addition of {n1} + {n2} = {sum}\")\n",
    "    \n",
    "elif user == 2:\n",
    "    subtraction = n1 - n2\n",
    "    print(\"------------\")\n",
    "    print(f\" The subtraction of {n1} - {n2} = {subtraction}\")\n",
    "    \n",
    "elif user == 3:\n",
    "    multiplication = n1 * n2\n",
    "    print(\"------------\")\n",
    "    print(f\" The multiplication of {n1} * {n2} = {multiplication}\")\n",
    "\n",
    "\n",
    "elif user == 4:\n",
    "    modulo = n1 % n2\n",
    "    print(\"------------\")\n",
    "    print(f\" The modulo of {n1} % {n2} = {modulo}\")\n",
    "    \n",
    "else:\n",
    "    print(\"INVALID INPUT BY USER SIDE....\")\n",
    "    \n",
    "    \n",
    "    "
   ]
  },
  {
   "cell_type": "code",
   "execution_count": null,
   "id": "b568f707-1a91-4198-b9ea-7ce22cd53b66",
   "metadata": {},
   "outputs": [],
   "source": []
  },
  {
   "cell_type": "code",
   "execution_count": null,
   "id": "c8344647-c17d-4d93-b963-02fbaf055b7a",
   "metadata": {},
   "outputs": [],
   "source": []
  },
  {
   "cell_type": "code",
   "execution_count": null,
   "id": "b876e0ae-2ce3-428a-a8e9-841f5df327ac",
   "metadata": {},
   "outputs": [],
   "source": []
  },
  {
   "cell_type": "code",
   "execution_count": null,
   "id": "bd76e19d-6bd2-4f5e-b72a-d08d1f84b5d8",
   "metadata": {},
   "outputs": [],
   "source": []
  }
 ],
 "metadata": {
  "kernelspec": {
   "display_name": "Python 3 (ipykernel)",
   "language": "python",
   "name": "python3"
  },
  "language_info": {
   "codemirror_mode": {
    "name": "ipython",
    "version": 3
   },
   "file_extension": ".py",
   "mimetype": "text/x-python",
   "name": "python",
   "nbconvert_exporter": "python",
   "pygments_lexer": "ipython3",
   "version": "3.10.6"
  }
 },
 "nbformat": 4,
 "nbformat_minor": 5
}
