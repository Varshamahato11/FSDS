{
  "nbformat": 4,
  "nbformat_minor": 0,
  "metadata": {
    "colab": {
      "provenance": [],
      "collapsed_sections": []
    },
    "kernelspec": {
      "name": "python3",
      "display_name": "Python 3"
    },
    "language_info": {
      "name": "python"
    }
  },
  "cells": [
    {
      "cell_type": "markdown",
      "source": [
        "# 1.What are the two values of the Boolean data type? How do you write them?\n",
        "Ans: The two values of Boolean data types are True ie;(1) and False ie;(0).It is used to represents truth values.\n",
        "\n",
        "exmaple: 0<1 is True and 0>1 is False .\n",
        "\n",
        "True and False is written as : in True  'T' should be capital \n",
        "\n",
        "and rest of the word should be in small  and same for False."
      ],
      "metadata": {
        "id": "NxMy4sRfW0yR"
      }
    },
    {
      "cell_type": "code",
      "source": [
        "a=0\n",
        "print(bool(a))\n",
        " \n",
        "b=1\n",
        "print(bool(b))"
      ],
      "metadata": {
        "colab": {
          "base_uri": "https://localhost:8080/"
        },
        "id": "-3oQ15uKXpdi",
        "outputId": "d8a0f356-5d72-4317-e077-752f38df562a"
      },
      "execution_count": 7,
      "outputs": [
        {
          "output_type": "stream",
          "name": "stdout",
          "text": [
            "False\n",
            "True\n"
          ]
        }
      ]
    },
    {
      "cell_type": "markdown",
      "source": [
        "# 2. What are the three different types of Boolean operators?\n",
        "Ans: The three different type of Boolean operators are:\n",
        "- OR : It gives True if any one of the input is True else returns False.\n",
        "- AND : It gives False if any one of the inputs is False else returns True.\n",
        "- NOT : It require only one argument and returns the opposite of the argument.\n",
        "\n",
        "  True for False and False for True."
      ],
      "metadata": {
        "id": "BMr8xY9IaEry"
      }
    },
    {
      "cell_type": "markdown",
      "source": [
        "# 3. The Boolean Not operator only require one argument and returns the negation of the argument i.e. returns the True for False and False for True.\n",
        "\n",
        "Ans: **AND**\n",
        "\n",
        "True and True - True\n",
        "\n",
        "True and False - False.\n",
        "\n",
        "False and True - False.\n",
        "\n",
        "False and False - False.\n",
        "\n",
        "**OR**\n",
        "\n",
        "True or True - True.\n",
        "\n",
        "True or False - True.\n",
        "\n",
        "False or True - True.\n",
        "\n",
        "False or False - False.\n",
        "\n",
        "**NOT**\n",
        "\n",
        "not False is True.\n",
        "\n",
        "not True is False.\n",
        "\n",
        "\n",
        "\n"
      ],
      "metadata": {
        "id": "47OT02cqcrkh"
      }
    },
    {
      "cell_type": "markdown",
      "source": [
        "# 4. What are the values of the following expressions?\n",
        "(5 > 4) and (3 == 5)\n",
        "\n",
        "not (5 > 4)\n",
        "\n",
        "(5 > 4) or (3 == 5)\n",
        "\n",
        "not ((5 > 4) or (3 == 5))\n",
        "\n",
        "(True and True) and (True == False)\n",
        "\n",
        "(not False) or (not True)\n",
        "\n"
      ],
      "metadata": {
        "id": "RfZHaYWQeIJ8"
      }
    },
    {
      "cell_type": "code",
      "source": [
        "(5 > 4) and (3 == 5)"
      ],
      "metadata": {
        "colab": {
          "base_uri": "https://localhost:8080/"
        },
        "id": "wYYxnLi5ZXzT",
        "outputId": "0f97a62d-efe2-41c4-bf83-0f80ae59b53a"
      },
      "execution_count": 8,
      "outputs": [
        {
          "output_type": "execute_result",
          "data": {
            "text/plain": [
              "False"
            ]
          },
          "metadata": {},
          "execution_count": 8
        }
      ]
    },
    {
      "cell_type": "code",
      "source": [
        "not (5 > 4)"
      ],
      "metadata": {
        "colab": {
          "base_uri": "https://localhost:8080/"
        },
        "id": "iRcpaqqCejSb",
        "outputId": "4642df71-1dcc-438d-bcab-331491fef45d"
      },
      "execution_count": 9,
      "outputs": [
        {
          "output_type": "execute_result",
          "data": {
            "text/plain": [
              "False"
            ]
          },
          "metadata": {},
          "execution_count": 9
        }
      ]
    },
    {
      "cell_type": "code",
      "source": [
        "(5 > 4) or (3 == 5)"
      ],
      "metadata": {
        "colab": {
          "base_uri": "https://localhost:8080/"
        },
        "id": "8eMWln7HepIi",
        "outputId": "6d7c9535-a834-4073-d06c-5738c889e4d5"
      },
      "execution_count": 10,
      "outputs": [
        {
          "output_type": "execute_result",
          "data": {
            "text/plain": [
              "True"
            ]
          },
          "metadata": {},
          "execution_count": 10
        }
      ]
    },
    {
      "cell_type": "code",
      "source": [
        "not ((5 > 4) or (3 == 5))"
      ],
      "metadata": {
        "colab": {
          "base_uri": "https://localhost:8080/"
        },
        "id": "Cbdn_d7Berph",
        "outputId": "b1e1c05d-fb25-4a48-9b56-b9359f035b42"
      },
      "execution_count": 11,
      "outputs": [
        {
          "output_type": "execute_result",
          "data": {
            "text/plain": [
              "False"
            ]
          },
          "metadata": {},
          "execution_count": 11
        }
      ]
    },
    {
      "cell_type": "code",
      "source": [
        "(True and True) and (True == False)"
      ],
      "metadata": {
        "colab": {
          "base_uri": "https://localhost:8080/"
        },
        "id": "JGLsQ-lDeysx",
        "outputId": "39fdac2f-8466-4eb0-8cc9-c5cdd643eab4"
      },
      "execution_count": 12,
      "outputs": [
        {
          "output_type": "execute_result",
          "data": {
            "text/plain": [
              "False"
            ]
          },
          "metadata": {},
          "execution_count": 12
        }
      ]
    },
    {
      "cell_type": "code",
      "source": [
        "(not False) or (not True)"
      ],
      "metadata": {
        "colab": {
          "base_uri": "https://localhost:8080/"
        },
        "id": "_A7wOcvxe5qN",
        "outputId": "50c4ad18-00de-4613-9e4b-f1c2d088f477"
      },
      "execution_count": 13,
      "outputs": [
        {
          "output_type": "execute_result",
          "data": {
            "text/plain": [
              "True"
            ]
          },
          "metadata": {},
          "execution_count": 13
        }
      ]
    },
    {
      "cell_type": "code",
      "source": [],
      "metadata": {
        "id": "i_IjL-i_e_RL"
      },
      "execution_count": null,
      "outputs": []
    },
    {
      "cell_type": "markdown",
      "source": [
        "# 5. What are the six comparison operators?\n",
        "Ans:==, !=, <, >, <=, and >=.\n",
        "\n",
        "ie;\n",
        "Equal equal to operator\n",
        "\n",
        "Not Equal to operator\n",
        "\n",
        "Less than operator\n",
        "\n",
        "Greater than operator\n",
        "\n",
        "Less than equal to operator\n",
        "\n",
        "Greater than equal to operator\n",
        "\n"
      ],
      "metadata": {
        "id": "uauRg3OsfJ2E"
      }
    },
    {
      "cell_type": "markdown",
      "source": [
        "# 6. How do you tell the difference between the equal to and assignment operators?Describe a condition and when you would use one.\n",
        "Ans:\n",
        "== this operator use to compare two values and gives result to Boolean,\n",
        "\n",
        "Example:- 1==1 is valid and returns 1.\n",
        "\n",
        "while = is the assignment operator that is use to store value in variable.\n",
        "\n",
        "Example:- example a = 10, str = \"varsha\""
      ],
      "metadata": {
        "id": "VnEpEry-gucX"
      }
    },
    {
      "cell_type": "markdown",
      "source": [
        "# 7. Identify the three blocks in this code:\n",
        "spam = 0\n",
        "\n",
        "if spam == 10:\n",
        "\n",
        "print('eggs')\n",
        "\n",
        "if spam > 5:\n",
        "\n",
        "print('bacon')\n",
        "\n",
        "else:\n",
        "\n",
        "print('ham')\n",
        "\n",
        "print('spam')\n",
        "\n",
        "print('spam')\n",
        "\n",
        "\n",
        "Ans: The three blocks are  inside the if statement and the lines \n",
        "\n",
        "print('bacon') and print('ham').\n",
        "\n",
        "print('eggs') if spam > 5: print('bacon')\n",
        "\n",
        " else: print('ham') print('spam')\n"
      ],
      "metadata": {
        "id": "C0xQeuqQwWNz"
      }
    },
    {
      "cell_type": "code",
      "source": [
        "spam = 0        #1st block\n",
        "\n",
        "if spam == 10:        # 2nd block\n",
        "    print(\"eggs\")  \n",
        "\n",
        "if spam > 5:             # 3rd block\n",
        "    print(\"bacon\")\n",
        "else:\n",
        "    print(\"ham\")\n",
        "    print(\"spam\")\n",
        "    print(\"spam\")"
      ],
      "metadata": {
        "colab": {
          "base_uri": "https://localhost:8080/"
        },
        "id": "DQtI1oW8iiYM",
        "outputId": "dab40ef6-4660-48dd-9360-2ba500967421"
      },
      "execution_count": 17,
      "outputs": [
        {
          "output_type": "stream",
          "name": "stdout",
          "text": [
            "ham\n",
            "spam\n",
            "spam\n"
          ]
        }
      ]
    },
    {
      "cell_type": "markdown",
      "source": [
        "# 8. Write code that prints Hello if 1 is stored in spam, prints Howdy if 2 is stored in spam, and prints Greetings! if anything else is stored in spam."
      ],
      "metadata": {
        "id": "tLfpBgeSxo0G"
      }
    },
    {
      "cell_type": "code",
      "source": [
        "spam=int(input(\"Enter the value: \"))\n",
        "if spam == 1:\n",
        "  print('Hello') \n",
        "elif spam == 2:\n",
        "  print('Howdy')\n",
        "else: \n",
        "  print('Greetings!')"
      ],
      "metadata": {
        "colab": {
          "base_uri": "https://localhost:8080/"
        },
        "id": "r7LQ6YVBidh1",
        "outputId": "b97d0a20-36c9-46b4-8b39-0733f65bc763"
      },
      "execution_count": 21,
      "outputs": [
        {
          "output_type": "stream",
          "name": "stdout",
          "text": [
            "Enter the value: 3\n",
            "Greetings!\n"
          ]
        }
      ]
    },
    {
      "cell_type": "markdown",
      "source": [
        "# 9.If your programme is stuck in an endless loop, what keys you’ll press?\n",
        "Ans:\n",
        "Press CTRL + c to exit from a infinite loop."
      ],
      "metadata": {
        "id": "Lvch-3dryn-4"
      }
    },
    {
      "cell_type": "markdown",
      "source": [
        "#10. How can you tell the difference between break and continue?\n",
        "Ans:\n",
        " - The break statement will move the execution outside and just after a loop.\n",
        "\n",
        "   The continue statement will move the execution to the start of the loop.\n",
        "\n",
        "- whenever break statement executed then else block will not be executed \n",
        "\n",
        "  whereas In continue ,all the time else block is executed."
      ],
      "metadata": {
        "id": "03wXVD7czEkC"
      }
    },
    {
      "cell_type": "code",
      "source": [
        "# break statement\n",
        "s = \"varsha\"\n",
        "\n",
        "for i in s:\n",
        "    if i == \"h\":\n",
        "        break\n",
        "    print(i)"
      ],
      "metadata": {
        "colab": {
          "base_uri": "https://localhost:8080/"
        },
        "id": "8hfRJG01yd_K",
        "outputId": "e4629489-ac64-46d2-b326-5bfddbeeef78"
      },
      "execution_count": 23,
      "outputs": [
        {
          "output_type": "stream",
          "name": "stdout",
          "text": [
            "v\n",
            "a\n",
            "r\n",
            "s\n"
          ]
        }
      ]
    },
    {
      "cell_type": "code",
      "source": [],
      "metadata": {
        "id": "8H2LbpeC1iiA"
      },
      "execution_count": null,
      "outputs": []
    },
    {
      "cell_type": "code",
      "source": [
        "# Program to use break statement\n",
        "s = \"varsha\"\n",
        "\n",
        "for i in s:\n",
        "    if i == \"h\":\n",
        "        continue\n",
        "    print(i)"
      ],
      "metadata": {
        "colab": {
          "base_uri": "https://localhost:8080/"
        },
        "id": "Szm3fwh_1NQp",
        "outputId": "ecd80818-f85f-4a7c-8097-2335d2a7a1f2"
      },
      "execution_count": 24,
      "outputs": [
        {
          "output_type": "stream",
          "name": "stdout",
          "text": [
            "v\n",
            "a\n",
            "r\n",
            "s\n",
            "a\n"
          ]
        }
      ]
    },
    {
      "cell_type": "markdown",
      "source": [
        "# 11. In a for loop, what is the difference between range(10), range(0, 10), and range(0, 10, 1)?\n",
        "Ans: There is no difference in the range(10), range(0,10) and range(0,10,1). \n",
        "by default takes 0 as starting point and 1 as increment."
      ],
      "metadata": {
        "id": "OTvoepEy1mCt"
      }
    },
    {
      "cell_type": "code",
      "source": [
        "for i in range(10):\n",
        "    print(i)"
      ],
      "metadata": {
        "colab": {
          "base_uri": "https://localhost:8080/"
        },
        "id": "7OcaIuGOYE0c",
        "outputId": "485d32e1-3054-4486-f310-1908faefc254"
      },
      "execution_count": 25,
      "outputs": [
        {
          "output_type": "stream",
          "name": "stdout",
          "text": [
            "0\n",
            "1\n",
            "2\n",
            "3\n",
            "4\n",
            "5\n",
            "6\n",
            "7\n",
            "8\n",
            "9\n"
          ]
        }
      ]
    },
    {
      "cell_type": "code",
      "source": [
        "for i in range(0,10):\n",
        "    print(i)"
      ],
      "metadata": {
        "colab": {
          "base_uri": "https://localhost:8080/"
        },
        "id": "1iGQl-b12yb4",
        "outputId": "0b25f69b-0439-4ea8-d012-02f947b2346d"
      },
      "execution_count": 26,
      "outputs": [
        {
          "output_type": "stream",
          "name": "stdout",
          "text": [
            "0\n",
            "1\n",
            "2\n",
            "3\n",
            "4\n",
            "5\n",
            "6\n",
            "7\n",
            "8\n",
            "9\n"
          ]
        }
      ]
    },
    {
      "cell_type": "code",
      "source": [
        "for i in range(0,10,1):\n",
        "    print(i)"
      ],
      "metadata": {
        "colab": {
          "base_uri": "https://localhost:8080/"
        },
        "id": "PUMexVck21Il",
        "outputId": "6e07d7c3-ea98-4b07-c64d-bbf81996bd22"
      },
      "execution_count": 27,
      "outputs": [
        {
          "output_type": "stream",
          "name": "stdout",
          "text": [
            "0\n",
            "1\n",
            "2\n",
            "3\n",
            "4\n",
            "5\n",
            "6\n",
            "7\n",
            "8\n",
            "9\n"
          ]
        }
      ]
    },
    {
      "cell_type": "markdown",
      "source": [
        "# 12. Write a short program that prints the numbers 1 to 10 using a for loop. Then write an equivalent program that prints the numbers 1 to 10 using a while loop.\n"
      ],
      "metadata": {
        "id": "8n4eCvbs26qQ"
      }
    },
    {
      "cell_type": "code",
      "source": [
        "#using for loop\n",
        "for i in range(1,11):\n",
        "  print(i)"
      ],
      "metadata": {
        "colab": {
          "base_uri": "https://localhost:8080/"
        },
        "id": "vyG_dMUx24wH",
        "outputId": "ce4179f5-9723-4fa2-d211-5816300e4110"
      },
      "execution_count": 28,
      "outputs": [
        {
          "output_type": "stream",
          "name": "stdout",
          "text": [
            "1\n",
            "2\n",
            "3\n",
            "4\n",
            "5\n",
            "6\n",
            "7\n",
            "8\n",
            "9\n",
            "10\n"
          ]
        }
      ]
    },
    {
      "cell_type": "code",
      "source": [
        "#using while loop\n",
        "i=1\n",
        "while (i <=10):\n",
        "  print(i)\n",
        "  i=i+1"
      ],
      "metadata": {
        "colab": {
          "base_uri": "https://localhost:8080/"
        },
        "id": "aM3t9fDw3UJO",
        "outputId": "77c8be98-9e78-4b1a-9f65-538f57466c78"
      },
      "execution_count": 30,
      "outputs": [
        {
          "output_type": "stream",
          "name": "stdout",
          "text": [
            "1\n",
            "2\n",
            "3\n",
            "4\n",
            "5\n",
            "6\n",
            "7\n",
            "8\n",
            "9\n",
            "10\n"
          ]
        }
      ]
    },
    {
      "cell_type": "markdown",
      "source": [
        "# 13. If you had a function named bacon() inside a module named spam, how would you call it after importing spam?\n",
        "\n",
        "Ans: This function can be called with spam.bacon()"
      ],
      "metadata": {
        "id": "UVTxrptn309S"
      }
    }
  ]
}