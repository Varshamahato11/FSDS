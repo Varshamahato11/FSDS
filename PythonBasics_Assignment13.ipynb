{
 "cells": [
  {
   "cell_type": "markdown",
   "id": "85329eac",
   "metadata": {},
   "source": [
    "## 1. What advantages do Excel spreadsheets have over CSV spreadsheets?\n",
    "#### Ans: In Excel, spreadsheets can have values of data types other than strings; cells can have different fonts, sizes, or color settings; cells can have varying widths and heights; adjacent cells can be merged; and you can embed images and charts."
   ]
  },
  {
   "cell_type": "markdown",
   "id": "a23f7f41",
   "metadata": {},
   "source": [
    "## --------------------------------------------------"
   ]
  },
  {
   "cell_type": "markdown",
   "id": "2f4c500b",
   "metadata": {},
   "source": [
    "## 2.What do you pass to csv.reader() and csv.writer() to create reader and writer objects?\n",
    "#### Ans: You pass a File object, obtained from a call to open()."
   ]
  },
  {
   "cell_type": "markdown",
   "id": "9bd896a6",
   "metadata": {},
   "source": [
    "## ---------------------------------------------"
   ]
  },
  {
   "cell_type": "markdown",
   "id": "03d4a50a",
   "metadata": {},
   "source": [
    "## 3. What modes do File objects for reader and writer objects need to be opened in?\n",
    "#### Ans:  File objects need to be opened in read-binary ('rb') for reader objects and write-binary ('wb') for writer objects."
   ]
  },
  {
   "cell_type": "markdown",
   "id": "c91b8ef4",
   "metadata": {},
   "source": [
    "## --------------------------------------------"
   ]
  },
  {
   "cell_type": "markdown",
   "id": "5b9ae299",
   "metadata": {},
   "source": [
    "## 4. What method takes a list argument and writes it to a CSV file?\n",
    "#### Ans: The writerow() method"
   ]
  },
  {
   "cell_type": "markdown",
   "id": "9411f3af",
   "metadata": {},
   "source": [
    "## --------------------------------------------"
   ]
  },
  {
   "cell_type": "markdown",
   "id": "561a91f0",
   "metadata": {},
   "source": [
    "## 5. What do the keyword arguments delimiter and line terminator do?\n",
    "#### Ans: The delimiter argument changes the string used to separate cells in a row. The lineterminator argument changes the string used to separate rows."
   ]
  },
  {
   "cell_type": "markdown",
   "id": "3923d3c4",
   "metadata": {},
   "source": [
    "## ------------------------------------------------"
   ]
  },
  {
   "cell_type": "markdown",
   "id": "a4f3fd86",
   "metadata": {},
   "source": [
    "## 6. What function takes a string of JSON data and returns a Python data structure?\n",
    "#### Ans: json.loads()"
   ]
  },
  {
   "cell_type": "markdown",
   "id": "33658cf7",
   "metadata": {},
   "source": [
    "## -------------------------------------------"
   ]
  },
  {
   "cell_type": "markdown",
   "id": "ed711e6f",
   "metadata": {},
   "source": [
    "## 7. What function takes a Python data structure and returns a string of JSON data?\n",
    "#### Ans:json.dumps()"
   ]
  },
  {
   "cell_type": "markdown",
   "id": "91c91235",
   "metadata": {},
   "source": [
    "## ------------------------------------------"
   ]
  },
  {
   "cell_type": "code",
   "execution_count": null,
   "id": "d5aacaf2",
   "metadata": {},
   "outputs": [],
   "source": []
  }
 ],
 "metadata": {
  "kernelspec": {
   "display_name": "Python 3 (ipykernel)",
   "language": "python",
   "name": "python3"
  },
  "language_info": {
   "codemirror_mode": {
    "name": "ipython",
    "version": 3
   },
   "file_extension": ".py",
   "mimetype": "text/x-python",
   "name": "python",
   "nbconvert_exporter": "python",
   "pygments_lexer": "ipython3",
   "version": "3.9.13"
  }
 },
 "nbformat": 4,
 "nbformat_minor": 5
}
