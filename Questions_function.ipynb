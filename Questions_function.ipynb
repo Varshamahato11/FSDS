{
  "nbformat": 4,
  "nbformat_minor": 0,
  "metadata": {
    "colab": {
      "provenance": [],
      "collapsed_sections": []
    },
    "kernelspec": {
      "name": "python3",
      "display_name": "Python 3"
    },
    "language_info": {
      "name": "python"
    }
  },
  "cells": [
    {
      "cell_type": "markdown",
      "source": [
        "# 1.  write a function which will try to find out len of a string without using an inbuilt len function \n",
        " "
      ],
      "metadata": {
        "id": "isrM7DDXdXeV"
      }
    },
    {
      "cell_type": "code",
      "source": [
        "s=input(\"enter any name: \")\n",
        "\n",
        "count = 0\n",
        "\n",
        "for i in s:\n",
        "     count=count+1 \n",
        "print(f\"The lenght of the string is : {count}\") "
      ],
      "metadata": {
        "colab": {
          "base_uri": "https://localhost:8080/"
        },
        "id": "P61FcKw6dW9M",
        "outputId": "cc6a77bc-c75f-4fb7-e914-90c3c8406fb4"
      },
      "execution_count": 10,
      "outputs": [
        {
          "output_type": "stream",
          "name": "stdout",
          "text": [
            "enter any name: varsha mahato\n",
            "The lenght of the string is : 13\n"
          ]
        }
      ]
    },
    {
      "cell_type": "markdown",
      "source": [
        "# 2.write a function which  will be able to print an index of list element without using an index function"
      ],
      "metadata": {
        "id": "o4Ch6Nr6f6Cc"
      }
    },
    {
      "cell_type": "code",
      "source": [
        "#Using enumerate(), we can print both the index and the value.\n",
        "\n",
        "list = [21, 44, 35, 11]\n",
        "\n",
        "for index, value in enumerate(list):\n",
        "    print(f\"The index is :{index}  of element : {value}\")"
      ],
      "metadata": {
        "colab": {
          "base_uri": "https://localhost:8080/"
        },
        "id": "KqN985hIeChW",
        "outputId": "b5ca8d20-a3b6-41ec-cfe0-4b7d2190a58f"
      },
      "execution_count": 16,
      "outputs": [
        {
          "output_type": "stream",
          "name": "stdout",
          "text": [
            "The index is :0  of element : 21\n",
            "The index is :1  of element : 44\n",
            "The index is :2  of element : 35\n",
            "The index is :3  of element : 11\n"
          ]
        }
      ]
    },
    {
      "cell_type": "markdown",
      "source": [
        "#3. write a function which will be able to print an ip address of your system"
      ],
      "metadata": {
        "id": "rZWKxCIBdCeR"
      }
    },
    {
      "cell_type": "code",
      "source": [
        "import socket\n",
        "host_name= socket.gethostname()\n",
        "ip_address= socket.gethostbyname(host_name)\n",
        "print(f\"The host name : {host_name}\")\n",
        "print(f\"The IP address : {ip_address}\")\n",
        "\n"
      ],
      "metadata": {
        "colab": {
          "base_uri": "https://localhost:8080/"
        },
        "id": "eZ_S6-5zcQsA",
        "outputId": "f53174a2-14f4-46b8-94fa-91e92c9e223c"
      },
      "execution_count": 9,
      "outputs": [
        {
          "output_type": "stream",
          "name": "stdout",
          "text": [
            "The host name : c07285346b0c\n",
            "The IP address : 172.28.0.2\n"
          ]
        }
      ]
    },
    {
      "cell_type": "markdown",
      "source": [
        "# 4.  write a function which will shutdown your system"
      ],
      "metadata": {
        "id": "1rUQcUB9hc25"
      }
    },
    {
      "cell_type": "code",
      "source": [
        "import os\n",
        "\n",
        "shutdown = input(\"Do you want to  shutdown your laptop ? (yes / no): \")\n",
        "\n",
        "if shutdown == 'no':\n",
        "\texit()\n",
        "else:\n",
        "\tos.system(\"shutdown \")\n"
      ],
      "metadata": {
        "colab": {
          "base_uri": "https://localhost:8080/"
        },
        "id": "gd7vo6y3dTHM",
        "outputId": "0c3e8cee-0cb0-4005-d293-eb2272210db6"
      },
      "execution_count": 6,
      "outputs": [
        {
          "name": "stdout",
          "output_type": "stream",
          "text": [
            "Do you want to  shutdown your laptop ? (yes / no): no\n"
          ]
        }
      ]
    },
    {
      "cell_type": "code",
      "source": [],
      "metadata": {
        "id": "4tD4Sprlj5Pw"
      },
      "execution_count": null,
      "outputs": []
    },
    {
      "cell_type": "code",
      "source": [],
      "metadata": {
        "id": "hsM5F67XjfrU"
      },
      "execution_count": null,
      "outputs": []
    },
    {
      "cell_type": "code",
      "source": [],
      "metadata": {
        "id": "8ldxi1jbjH_D"
      },
      "execution_count": null,
      "outputs": []
    },
    {
      "cell_type": "code",
      "source": [],
      "metadata": {
        "id": "4PYPnJN0cofn"
      },
      "execution_count": null,
      "outputs": []
    },
    {
      "cell_type": "code",
      "source": [],
      "metadata": {
        "id": "7j5p4efzcBvA"
      },
      "execution_count": null,
      "outputs": []
    }
  ]
}