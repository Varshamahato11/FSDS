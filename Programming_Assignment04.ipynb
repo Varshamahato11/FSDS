{
  "nbformat": 4,
  "nbformat_minor": 0,
  "metadata": {
    "colab": {
      "provenance": [],
      "collapsed_sections": []
    },
    "kernelspec": {
      "name": "python3",
      "display_name": "Python 3"
    },
    "language_info": {
      "name": "python"
    }
  },
  "cells": [
    {
      "cell_type": "markdown",
      "source": [
        "# Question 1.\tWrite a Python Program to Find the Factorial of a Number?"
      ],
      "metadata": {
        "id": "tLS0pLCPuJPF"
      }
    },
    {
      "cell_type": "code",
      "source": [
        "num=int(input(\"Enter the number to find factorial: \"))\n",
        "real_value=num\n",
        "fact=1\n",
        "while (num>0):\n",
        "\n",
        "  fact=fact*num\n",
        "  num=num-1\n",
        "print(f\"The factorial of number {real_value} is :{fact}\")\n",
        "\n",
        "\n"
      ],
      "metadata": {
        "id": "Ml8XowC1u4Ha",
        "colab": {
          "base_uri": "https://localhost:8080/"
        },
        "outputId": "d716b74e-4760-4635-f223-e0fdd8712488"
      },
      "execution_count": null,
      "outputs": [
        {
          "output_type": "stream",
          "name": "stdout",
          "text": [
            "Enter the number to find factorial: 3\n",
            "The factorial of number 3 is :6\n"
          ]
        }
      ]
    },
    {
      "cell_type": "code",
      "source": [],
      "metadata": {
        "id": "BRyfb7PBMpKS"
      },
      "execution_count": null,
      "outputs": []
    },
    {
      "cell_type": "markdown",
      "source": [
        "# Question 2.\tWrite a Python Program to Display the multiplication Table?"
      ],
      "metadata": {
        "id": "BmNOG9egu65p"
      }
    },
    {
      "cell_type": "code",
      "source": [
        "num = int(input(\"Enter a Number to diaplay multiplication table : \"))\n",
        "print(\"-----------\")\n",
        "print(f\"Multiplication table of {num} is given below\")\n",
        "print(\"-----------\")\n",
        "for i in range(1,11):\n",
        "    print(f\"{num} * {i} = {num*i}\")"
      ],
      "metadata": {
        "colab": {
          "base_uri": "https://localhost:8080/"
        },
        "id": "pa3mGymFwrJn",
        "outputId": "99dbe047-6fb7-4d79-f0f8-441dd324c76a"
      },
      "execution_count": null,
      "outputs": [
        {
          "output_type": "stream",
          "name": "stdout",
          "text": [
            "Enter a Number to diaplay multiplication table : 2\n",
            "-----------\n",
            "Multiplication table of 2 is given below\n",
            "2 * 1 = 2\n",
            "2 * 2 = 4\n",
            "2 * 3 = 6\n",
            "2 * 4 = 8\n",
            "2 * 5 = 10\n",
            "2 * 6 = 12\n",
            "2 * 7 = 14\n",
            "2 * 8 = 16\n",
            "2 * 9 = 18\n",
            "2 * 10 = 20\n"
          ]
        }
      ]
    },
    {
      "cell_type": "markdown",
      "source": [
        " **OR**"
      ],
      "metadata": {
        "id": "SF_5b6ceJjkW"
      }
    },
    {
      "cell_type": "code",
      "source": [
        "num = int(input(\"Enter Number to diaplay multiplication table : \"))\n",
        "m=int(input(\"Enter Number up to which the  multiplication table will go : \"))\n",
        "print(\"-----------\")\n",
        "print(f\"Multiplication table of {num} is given below\")\n",
        "print(\"-----------\")\n",
        "for i in range(1,m+1):\n",
        "    print(f\"{num} * {i} = {num*i}\")"
      ],
      "metadata": {
        "colab": {
          "base_uri": "https://localhost:8080/"
        },
        "id": "Lf_0yEP4yjRb",
        "outputId": "0c364718-93b1-4673-fc6e-c62bae781970"
      },
      "execution_count": null,
      "outputs": [
        {
          "output_type": "stream",
          "name": "stdout",
          "text": [
            "Enter Number to diaplay multiplication table : 5\n",
            "Enter Number up to which the  multiplication table will go : 10\n",
            "-----------\n",
            "Multiplication table of 5 is given below\n",
            "-----------\n",
            "5 * 1 = 5\n",
            "5 * 2 = 10\n",
            "5 * 3 = 15\n",
            "5 * 4 = 20\n",
            "5 * 5 = 25\n",
            "5 * 6 = 30\n",
            "5 * 7 = 35\n",
            "5 * 8 = 40\n",
            "5 * 9 = 45\n",
            "5 * 10 = 50\n"
          ]
        }
      ]
    },
    {
      "cell_type": "markdown",
      "source": [
        "# Question 3.\tWrite a Python Program to Print the Fibonacci sequence?\n",
        "\n",
        "- a series of numbers in which each number is the sum of the two preceding numbers. "
      ],
      "metadata": {
        "id": "R4GYN73uvKGR"
      }
    },
    {
      "cell_type": "code",
      "source": [
        "n=int(input(\"Enter number to get fibonacci sequence: \"))\n",
        "x=0\n",
        "y=1\n",
        "z=0\n",
        "while(z<=n):\n",
        "  print( z)\n",
        " \n",
        "  x=y\n",
        "  y=z\n",
        "  z=x+y\n",
        "print(\"-----\")\n",
        "print(\"Series completed.\")\n",
        "\n"
      ],
      "metadata": {
        "id": "BjiKdFWuv8fT",
        "colab": {
          "base_uri": "https://localhost:8080/"
        },
        "outputId": "cd6fc675-f9db-4205-b35f-7f3d8946accb"
      },
      "execution_count": null,
      "outputs": [
        {
          "output_type": "stream",
          "name": "stdout",
          "text": [
            "Enter number to get fibonacci sequence: 3\n",
            "0\n",
            "1\n",
            "1\n",
            "2\n",
            "3\n",
            "-----\n",
            "Series completed.\n"
          ]
        }
      ]
    },
    {
      "cell_type": "markdown",
      "source": [
        "# Question 4. Write a Python Program to Check Armstrong Number?"
      ],
      "metadata": {
        "id": "doj8namgImBI"
      }
    },
    {
      "cell_type": "code",
      "execution_count": null,
      "metadata": {
        "colab": {
          "base_uri": "https://localhost:8080/"
        },
        "id": "3RpZlTFinc5K",
        "outputId": "a60d1164-e6c7-49cf-b205-7c5f7deaaf78"
      },
      "outputs": [
        {
          "output_type": "stream",
          "name": "stdout",
          "text": [
            "Enter a number: 152\n",
            "------------\n",
            "This number 152 is not an Armstrong number.\n"
          ]
        }
      ],
      "source": [
        "\n",
        "\n",
        "number = int(input('Enter a number: '))\n",
        "print(\"------------\")\n",
        "\n",
        "power = len(str(number))\n",
        "\n",
        "Sum = 0\n",
        "\n",
        "temp =number\n",
        "\n",
        "while temp > 0:\n",
        "    digit = temp%10\n",
        "    Sum = Sum + digit**power\n",
        "    temp = temp//10\n",
        "    \n",
        "if Sum == number:\n",
        "    print(f\"This number {number} is an Armstrong number.\")\n",
        "else:\n",
        "    print(f\"This number {number} is not an Armstrong number.\")"
      ]
    },
    {
      "cell_type": "code",
      "source": [],
      "metadata": {
        "id": "3mp4A25nI6jF"
      },
      "execution_count": null,
      "outputs": []
    },
    {
      "cell_type": "markdown",
      "source": [
        "# Question 5.\tWrite a Python Program to Find Armstrong Number in an Interval?"
      ],
      "metadata": {
        "id": "o4yUVXGPvS11"
      }
    },
    {
      "cell_type": "code",
      "source": [
        "low = int(input('Enter lower bound: '))\n",
        "up = int(input('Enter upper bound: '))\n",
        "\n",
        "for num in range(low, up+1):\n",
        "\n",
        "    order = len(str(num))\n",
        "\n",
        "    Sum = 0\n",
        "\n",
        "    temp = num\n",
        "\n",
        "    while temp > 0:\n",
        "        digit = temp%10\n",
        "        Sum = Sum + digit**order\n",
        "        temp = temp//10\n",
        "    \n",
        "    if Sum == num:\n",
        "        print(\"-------\")\n",
        "        print(f\"The armstrong number between range lower to upper: {num}\")"
      ],
      "metadata": {
        "id": "7Q64Dk04vZN4",
        "colab": {
          "base_uri": "https://localhost:8080/"
        },
        "outputId": "0e9a90ca-cdc9-44bd-c48c-eaaaee756744"
      },
      "execution_count": 3,
      "outputs": [
        {
          "output_type": "stream",
          "name": "stdout",
          "text": [
            "Enter lower bound: 100\n",
            "Enter upper bound: 200\n",
            "-------\n",
            "The armstrong number between range lower to upper: 153\n"
          ]
        }
      ]
    },
    {
      "cell_type": "code",
      "source": [],
      "metadata": {
        "id": "gifbGimEBm8h"
      },
      "execution_count": null,
      "outputs": []
    },
    {
      "cell_type": "markdown",
      "source": [
        "# Question 6.\tWrite a Python Program to Find the Sum of Natural Numbers?"
      ],
      "metadata": {
        "id": "IhbuVPievaSH"
      }
    },
    {
      "cell_type": "code",
      "source": [
        "n=int(input(\"Enter any natural number: \"))\n",
        "sum=0\n",
        "for i in range(0,n+1):\n",
        "  sum=sum+i\n",
        "print(\"-------\")\n",
        "print(f\"The Sum of Natural Number {n} is : {sum}\")"
      ],
      "metadata": {
        "colab": {
          "base_uri": "https://localhost:8080/"
        },
        "id": "169nCPNc00bN",
        "outputId": "58edf513-3104-4db3-f458-7d4de63a5f72"
      },
      "execution_count": null,
      "outputs": [
        {
          "output_type": "stream",
          "name": "stdout",
          "text": [
            "Enter any natural number: 4\n",
            "-------\n",
            "The Sum of Natural Number 4 is : 10\n"
          ]
        }
      ]
    }
  ]
}