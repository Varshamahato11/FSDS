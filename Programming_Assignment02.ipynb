{
  "nbformat": 4,
  "nbformat_minor": 0,
  "metadata": {
    "colab": {
      "provenance": []
    },
    "kernelspec": {
      "name": "python3",
      "display_name": "Python 3"
    },
    "language_info": {
      "name": "python"
    }
  },
  "cells": [
    {
      "cell_type": "markdown",
      "source": [
        "# **Name: Varsha Mahato**"
      ],
      "metadata": {
        "id": "2qdsugKaFKGN"
      }
    },
    {
      "cell_type": "markdown",
      "source": [
        "*1.\tWrite a Python program to convert kilometers to miles?*\n",
        "\n",
        "*2.\tWrite a Python program to convert Celsius to Fahrenheit?*\n",
        "\n",
        "\n",
        "*3.\tWrite a Python program to display calendar?*\n",
        "\n",
        "*4.\tWrite a Python program to solve quadratic equation?*\n",
        "\n",
        "*5.\tWrite a Python program to swap two variables without temp variable?*\n"
      ],
      "metadata": {
        "id": "Si6mwOZ7FWD0"
      }
    },
    {
      "cell_type": "code",
      "source": [
        "#Question1:\n",
        "\n",
        "kilometer=float(input(\"Enter how much kilometers you travel: \"))\n",
        "print(\"-------\")\n",
        "conv_fact= 0.621371\n",
        "\n",
        "mile= kilometer*conv_fact\n",
        "print(f\"\"\"After conversion\n",
        "    miles = {mile}\n",
        "    and kilometers = {kilometer}\"\"\")\n",
        "#print(f\"The miles is  {mile} and the kilometers you travel   {kilometer}\")\n",
        "\n"
      ],
      "metadata": {
        "colab": {
          "base_uri": "https://localhost:8080/"
        },
        "id": "Zwd4tl1KFTeH",
        "outputId": "f8e40c91-03f8-4baf-eca8-ebb5ee3375c7"
      },
      "execution_count": 3,
      "outputs": [
        {
          "output_type": "stream",
          "name": "stdout",
          "text": [
            "Enter how much kilometers you travel: 100\n",
            "-------\n",
            "After convertion\n",
            "    miles = 62.137100000000004\n",
            "    and kilometers = 100.0\n"
          ]
        }
      ]
    },
    {
      "cell_type": "code",
      "source": [
        "#Question2:\n",
        "\n",
        "celsius=float(input(\"Enter temperature in Celsius: \"))\n",
        "Fahrenheit= (celsius*1.8) +32\n",
        "print(\"------\")\n",
        "print(f\"The temperature  after conversion of celsius {celsius} to fahrenheit is : {Fahrenheit}\")\n"
      ],
      "metadata": {
        "colab": {
          "base_uri": "https://localhost:8080/"
        },
        "id": "z4yVLXygIAAH",
        "outputId": "c7bc9658-7b40-42fd-ce6a-8f12352d51f5"
      },
      "execution_count": 8,
      "outputs": [
        {
          "output_type": "stream",
          "name": "stdout",
          "text": [
            "Enter temperature in Celsius: 37\n",
            "------\n",
            "The temperature  after conversion of celsius 37.0 to fahrenheit is : 98.60000000000001\n"
          ]
        }
      ]
    },
    {
      "cell_type": "code",
      "source": [
        "# Question3:\n",
        "\n",
        "import calendar\n",
        "\n",
        "year=int(input(\"Enter Year: \"))\n",
        "month=int(input(\"Enter Month: \"))\n",
        "print(\"-------\")\n",
        "print(\"Here is our Calendar: \")\n",
        "print(\"-------------------\")\n",
        "print(calendar.month(year,month))"
      ],
      "metadata": {
        "id": "RfdBHf5nZDo2",
        "outputId": "3c2ba1ce-d03c-42c6-f28f-10a4233b799c",
        "colab": {
          "base_uri": "https://localhost:8080/"
        }
      },
      "execution_count": 26,
      "outputs": [
        {
          "output_type": "stream",
          "name": "stdout",
          "text": [
            "Enter Year: 2022\n",
            "Enter Month: 10\n",
            "-------\n",
            "Here is our Calendar: \n",
            "-------------------\n",
            "    October 2022\n",
            "Mo Tu We Th Fr Sa Su\n",
            "                1  2\n",
            " 3  4  5  6  7  8  9\n",
            "10 11 12 13 14 15 16\n",
            "17 18 19 20 21 22 23\n",
            "24 25 26 27 28 29 30\n",
            "31\n",
            "\n"
          ]
        }
      ]
    },
    {
      "cell_type": "code",
      "source": [
        "# Question4:  quadratic equation- ax**2 + bx + c\n",
        "\n",
        "import cmath                                  # here we are importing complex math module\n",
        "\n",
        "a=float(input(\"Enter the value for a: \"))\n",
        "b=float(input(\"Enter the value for b: \"))\n",
        "c=float(input(\"Enter the value for c: \"))\n",
        "\n",
        "d= (b**2)-(4*a*c)                                            #Herewe are calculating discriminant\n",
        "\n",
        "equation1= (-b-cmath.sqrt(d))/ (2*a)\n",
        "equation2= (-b+cmath.sqrt(d))/ (2*a)\n",
        "\n",
        "print(f\"The quadratic equations are: 5{equation1,equation2}\")\n"
      ],
      "metadata": {
        "id": "V1Qc4_KKbJXK",
        "outputId": "07306884-2a77-404d-8982-ee48357f50ba",
        "colab": {
          "base_uri": "https://localhost:8080/"
        }
      },
      "execution_count": 23,
      "outputs": [
        {
          "output_type": "stream",
          "name": "stdout",
          "text": [
            "Enter the value for a: 10\n",
            "Enter the value for b: 5\n",
            "Enter the value for c: 2\n",
            "The quadratic equations are: ((-0.25-0.37080992435478316j), (-0.25+0.37080992435478316j))\n"
          ]
        }
      ]
    },
    {
      "cell_type": "code",
      "source": [
        "# Question5:\n",
        "\n",
        "x=float(input(\"Enter the value of x: \"))\n",
        "y=float(input(\"Enter the value of y: \"))\n",
        "\n",
        "print(f\"Before Swapping value of x is {x} and y is {y} \")\n",
        "print(\"-----------------------\")\n",
        "\n",
        "x=x+y\n",
        "y=x-y\n",
        "x=x-y\n",
        "\n",
        "print(f\"After Swapping value of x is {x} and y is {y} \")"
      ],
      "metadata": {
        "id": "bH8-Y7FwpSLc",
        "outputId": "58ec3bee-ae5c-47c1-d6c1-a3956a94b8a3",
        "colab": {
          "base_uri": "https://localhost:8080/"
        }
      },
      "execution_count": 25,
      "outputs": [
        {
          "output_type": "stream",
          "name": "stdout",
          "text": [
            "Enter the value of x: 1\n",
            "Enter the value of y: 2\n",
            "Before Swapping value of x is 1.0 and y is 2.0 \n",
            "-----------------------\n",
            "After Swapping value of x is 2.0 and y is 1.0 \n"
          ]
        }
      ]
    },
    {
      "cell_type": "code",
      "source": [],
      "metadata": {
        "id": "msr6RpZzbr7f"
      },
      "execution_count": null,
      "outputs": []
    },
    {
      "cell_type": "code",
      "source": [],
      "metadata": {
        "id": "txu66HYqanZF"
      },
      "execution_count": null,
      "outputs": []
    }
  ]
}