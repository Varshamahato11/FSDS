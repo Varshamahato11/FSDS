{
  "nbformat": 4,
  "nbformat_minor": 0,
  "metadata": {
    "colab": {
      "provenance": []
    },
    "kernelspec": {
      "name": "python3",
      "display_name": "Python 3"
    },
    "language_info": {
      "name": "python"
    }
  },
  "cells": [
    {
      "cell_type": "markdown",
      "source": [
        "# 1. What does an empty dictionary's code look like?\n",
        "Ans: Two curly brackets: {}"
      ],
      "metadata": {
        "id": "E-1h5G0fxXIa"
      }
    },
    {
      "cell_type": "code",
      "source": [
        "dict={}\n",
        "print(type(dict))\n",
        "print(dict)"
      ],
      "metadata": {
        "colab": {
          "base_uri": "https://localhost:8080/"
        },
        "id": "z8eHWUITyk1S",
        "outputId": "79f76b57-9a4f-41dc-f536-9bc7288f9637"
      },
      "execution_count": 2,
      "outputs": [
        {
          "output_type": "stream",
          "name": "stdout",
          "text": [
            "<class 'dict'>\n",
            "{}\n"
          ]
        }
      ]
    },
    {
      "cell_type": "markdown",
      "source": [
        "# 2. What is the value of a dictionary value with the key 'foo' and the value 42?\n"
      ],
      "metadata": {
        "id": "RUbcx_aaxdBE"
      }
    },
    {
      "cell_type": "code",
      "source": [
        "dict={\"foo\":\"42\"}\n",
        "dict"
      ],
      "metadata": {
        "colab": {
          "base_uri": "https://localhost:8080/"
        },
        "id": "DxFyJiqmy6gK",
        "outputId": "829aa304-c195-44c7-e3bf-4094c5289633"
      },
      "execution_count": 4,
      "outputs": [
        {
          "output_type": "execute_result",
          "data": {
            "text/plain": [
              "{'foo': '42'}"
            ]
          },
          "metadata": {},
          "execution_count": 4
        }
      ]
    },
    {
      "cell_type": "code",
      "source": [],
      "metadata": {
        "id": "9g1C1t3nzD-B"
      },
      "execution_count": null,
      "outputs": []
    },
    {
      "cell_type": "markdown",
      "source": [
        "# 3. What is the most significant distinction between a dictionary and a list?\n",
        "Ans:  difference:\n",
        "- List - items in list are Ordered\n",
        "- Dictionary : iten in dictionary are unordered "
      ],
      "metadata": {
        "id": "mDFWox__xgcd"
      }
    },
    {
      "cell_type": "markdown",
      "source": [
        "#4. What happens if you try to access spam['foo'] if spam is {'bar': 100}?\n",
        "Ans:  we get KeyError error."
      ],
      "metadata": {
        "id": "65lW0ikyxlJ1"
      }
    },
    {
      "cell_type": "code",
      "source": [
        "spam= {'bar': 100}\n",
        "spam['foo']"
      ],
      "metadata": {
        "colab": {
          "base_uri": "https://localhost:8080/",
          "height": 188
        },
        "id": "htfjpdyRznj_",
        "outputId": "92a18c8d-e20b-4707-8c98-285a22a60e2f"
      },
      "execution_count": 5,
      "outputs": [
        {
          "output_type": "error",
          "ename": "KeyError",
          "evalue": "ignored",
          "traceback": [
            "\u001b[0;31m---------------------------------------------------------------------------\u001b[0m",
            "\u001b[0;31mKeyError\u001b[0m                                  Traceback (most recent call last)",
            "\u001b[0;32m<ipython-input-5-7ab32ed6ea23>\u001b[0m in \u001b[0;36m<module>\u001b[0;34m\u001b[0m\n\u001b[1;32m      1\u001b[0m \u001b[0mspam\u001b[0m\u001b[0;34m=\u001b[0m \u001b[0;34m{\u001b[0m\u001b[0;34m'bar'\u001b[0m\u001b[0;34m:\u001b[0m \u001b[0;36m100\u001b[0m\u001b[0;34m}\u001b[0m\u001b[0;34m\u001b[0m\u001b[0;34m\u001b[0m\u001b[0m\n\u001b[0;32m----> 2\u001b[0;31m \u001b[0mspam\u001b[0m\u001b[0;34m[\u001b[0m\u001b[0;34m'foo'\u001b[0m\u001b[0;34m]\u001b[0m\u001b[0;34m\u001b[0m\u001b[0;34m\u001b[0m\u001b[0m\n\u001b[0m",
            "\u001b[0;31mKeyError\u001b[0m: 'foo'"
          ]
        }
      ]
    },
    {
      "cell_type": "code",
      "source": [],
      "metadata": {
        "id": "PoV2sJHazta3"
      },
      "execution_count": null,
      "outputs": []
    },
    {
      "cell_type": "markdown",
      "source": [
        "# 5. If a dictionary is stored in spam, what is the difference between the expressions 'cat' in spam and 'cat' in spam.keys()?\n",
        "Ans: There is no difference. The in operator checks whether a value exists as a key in the dictionary."
      ],
      "metadata": {
        "id": "S1hAwoglxpq8"
      }
    },
    {
      "cell_type": "code",
      "source": [
        "spam ={'cat':100}\n",
        "'cat' in spam"
      ],
      "metadata": {
        "colab": {
          "base_uri": "https://localhost:8080/"
        },
        "id": "nHy5e43n0bsB",
        "outputId": "30a5a8da-be15-42b9-ea94-fa760d8ab157"
      },
      "execution_count": 6,
      "outputs": [
        {
          "output_type": "execute_result",
          "data": {
            "text/plain": [
              "True"
            ]
          },
          "metadata": {},
          "execution_count": 6
        }
      ]
    },
    {
      "cell_type": "code",
      "source": [
        "'cat' in spam.keys()"
      ],
      "metadata": {
        "colab": {
          "base_uri": "https://localhost:8080/"
        },
        "id": "5RWLUrqY0cdq",
        "outputId": "2b6fc6de-1017-4b53-f6f9-a94ea126b794"
      },
      "execution_count": 7,
      "outputs": [
        {
          "output_type": "execute_result",
          "data": {
            "text/plain": [
              "True"
            ]
          },
          "metadata": {},
          "execution_count": 7
        }
      ]
    },
    {
      "cell_type": "code",
      "source": [],
      "metadata": {
        "id": "55FBgwkI0hYM"
      },
      "execution_count": null,
      "outputs": []
    },
    {
      "cell_type": "markdown",
      "source": [
        "# 6. If a dictionary is stored in spam, what is the difference between the expressions 'cat' in spam and 'cat' in spam.values()?\n",
        "Ans:\n",
        "- 'cat' in spam checks whether there is a 'cat' key in the dictionary\n",
        "\n",
        "- 'cat' in spam.values() checks whether there is a value 'cat' for one of the keys in spam."
      ],
      "metadata": {
        "id": "QBJXBnhaxuHT"
      }
    },
    {
      "cell_type": "markdown",
      "source": [
        "# 7. What is a shortcut for the following code?\n",
        "\n",
        "if 'color' not in spam:\n",
        "\n",
        "spam['color'] = 'black'\n",
        "\n",
        "Ans:\n",
        " spam.setdefault('color', 'black')\n"
      ],
      "metadata": {
        "id": "mGP4T6puxy-1"
      }
    },
    {
      "cell_type": "markdown",
      "source": [
        "# 8. How do you \"pretty print\" dictionary values using which module and function?\n",
        "Ans:  Pretty printing means to present something in a more readable format or style\n",
        "\n",
        "pprint.pprint()"
      ],
      "metadata": {
        "id": "A3ksyfVlx_il"
      }
    },
    {
      "cell_type": "code",
      "source": [],
      "metadata": {
        "id": "OO2kvDY12Dap"
      },
      "execution_count": null,
      "outputs": []
    }
  ]
}