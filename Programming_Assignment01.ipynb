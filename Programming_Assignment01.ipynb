{
  "nbformat": 4,
  "nbformat_minor": 0,
  "metadata": {
    "colab": {
      "provenance": []
    },
    "kernelspec": {
      "name": "python3",
      "display_name": "Python 3"
    },
    "language_info": {
      "name": "python"
    }
  },
  "cells": [
    {
      "cell_type": "markdown",
      "source": [
        "#**Name: Varsha Mahato**"
      ],
      "metadata": {
        "id": "Wnkxn_TzxmDT"
      }
    },
    {
      "cell_type": "code",
      "execution_count": null,
      "metadata": {
        "id": "GfW1JEXQwsud"
      },
      "outputs": [],
      "source": []
    },
    {
      "cell_type": "markdown",
      "source": [
        "1.\tWrite a Python program to print \"Hello Python\"?\n",
        "2.\tWrite a Python program to do arithmetical operations addition and division.?\n",
        "3.\tWrite a Python program to find the area of a triangle?\n",
        "4.\tWrite a Python program to swap two variables?\n",
        "5.\tWrite a Python program to generate a random number?\n"
      ],
      "metadata": {
        "id": "Iu-N53_dxgNe"
      }
    },
    {
      "cell_type": "code",
      "source": [
        "# Question1:   Write a Python program to print \"Hello Python\"?\n",
        "\n",
        "print(\"Hello Python\")"
      ],
      "metadata": {
        "id": "riyFOz-0xjaG",
        "colab": {
          "base_uri": "https://localhost:8080/"
        },
        "outputId": "088c66c3-5afc-4708-fc03-907ddacdb5f3"
      },
      "execution_count": 1,
      "outputs": [
        {
          "output_type": "stream",
          "name": "stdout",
          "text": [
            "Hello Python\n"
          ]
        }
      ]
    },
    {
      "cell_type": "code",
      "source": [
        "# Question2:   Write a Python program to do arithmetical operations addition and division.?\n",
        "\n",
        "a=int(input(\"Enter 1st number for addition: \"))\n",
        "b=int(input(\"Enter 2nd number for addition: \"))\n",
        "c=a+b\n",
        "\n",
        "print(f\"The addition of two numbers {a} and {b} = {c}\")\n",
        "\n",
        "print(\"---------\")\n",
        "\n",
        "x=float(input(\"Enter 1st number for division:  \"))\n",
        "y=float(input(\"Enter 2nd number for division: \"))\n",
        "\n",
        "div=x/y\n",
        "\n",
        "print(f\"The division result of {x} and {y} =  {div}\")\n",
        "\n",
        "\n",
        "\n",
        "\n"
      ],
      "metadata": {
        "colab": {
          "base_uri": "https://localhost:8080/"
        },
        "id": "_K4vtaL7zLvW",
        "outputId": "b6e05142-f51a-4c37-98af-279c7b79de5a"
      },
      "execution_count": 9,
      "outputs": [
        {
          "output_type": "stream",
          "name": "stdout",
          "text": [
            "Enter 1st number for addition: 22\n",
            "Enter 2nd number for addition: 1\n",
            "The addition of two numbers 22 and 1 = 23\n",
            "---------\n",
            "Enter 1st number for division:  22\n",
            "Enter 2nd number for division: 1\n",
            "The division result of 22.0 and 1.0 =  22.0\n"
          ]
        }
      ]
    },
    {
      "cell_type": "code",
      "source": [
        "# Question3:    Write a Python program to find the area of a triangle?\n",
        "\n",
        "base=float(input(\"Enter the base value:\"))\n",
        "height=float(input(\"Enter the height value:\"))\n",
        "\n",
        "area=0.5*base*height\n",
        "print(\"--------\")\n",
        "print(f\"The area of a triangle with base {base} and {height} = {area} \")"
      ],
      "metadata": {
        "id": "cYB1n9uhEE7y",
        "outputId": "0fc31363-c4aa-4140-bfb5-1d1441ef6aef",
        "colab": {
          "base_uri": "https://localhost:8080/"
        }
      },
      "execution_count": 10,
      "outputs": [
        {
          "output_type": "stream",
          "name": "stdout",
          "text": [
            "Enter the base value:4\n",
            "Enter the height value:6\n",
            "--------\n",
            "The area of a triangle with base 4.0 and 6.0 = 12.0 \n"
          ]
        }
      ]
    },
    {
      "cell_type": "code",
      "source": [
        "# Question4:   Write a Python program to swap two variables?\n",
        "\n",
        "a=input(\"Enter the value of a:\")\n",
        "print(\"--------\")\n",
        "b=input(\"Enter the value of b:\")\n",
        "\n",
        "temp=a\n",
        "a=b\n",
        "b=temp\n",
        "print(\"------\")\n",
        "print(f\"The value of a that is after swapping: {a}\")\n",
        "print(\"----------\")\n",
        "print(f\"The value of b  that is  after swapping: {b}\")\n"
      ],
      "metadata": {
        "id": "74WZ61d1FQQu",
        "outputId": "8279b179-3fbd-4bec-fe0b-5ff83a83cf5e",
        "colab": {
          "base_uri": "https://localhost:8080/"
        }
      },
      "execution_count": 14,
      "outputs": [
        {
          "output_type": "stream",
          "name": "stdout",
          "text": [
            "Enter the value of a:13\n",
            "--------\n",
            "Enter the value of b:31\n",
            "------\n",
            "The value of a that is after swapping: 31\n",
            "----------\n",
            "The value of b  that is  after swapping: 13\n"
          ]
        }
      ]
    },
    {
      "cell_type": "code",
      "source": [
        "# Question5:   Write a Python program to generate a random number?\n",
        "\n",
        "import random\n",
        "print(\"Every time it will give random values..\")\n",
        "print(random.random())\n",
        "\n",
        "print(\"---------\")\n"
      ],
      "metadata": {
        "colab": {
          "base_uri": "https://localhost:8080/"
        },
        "id": "inBjBfMWzw2K",
        "outputId": "c9b5e00e-f64f-460a-a97c-004ea23df4db"
      },
      "execution_count": 21,
      "outputs": [
        {
          "output_type": "stream",
          "name": "stdout",
          "text": [
            "Every time it will give random values..\n",
            "0.7404389260439612\n",
            "---------\n"
          ]
        }
      ]
    }
  ]
}